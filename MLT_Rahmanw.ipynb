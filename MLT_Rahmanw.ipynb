{
  "nbformat": 4,
  "nbformat_minor": 0,
  "metadata": {
    "colab": {
      "provenance": [],
      "gpuType": "T4"
    },
    "kernelspec": {
      "name": "python3",
      "display_name": "Python 3"
    },
    "language_info": {
      "name": "python"
    },
    "accelerator": "GPU"
  },
  "cells": [
    {
      "cell_type": "code",
      "execution_count": 49,
      "metadata": {
        "id": "NV5RcDpadmm9",
        "colab": {
          "base_uri": "https://localhost:8080/"
        },
        "outputId": "a1d26c8d-f758-4667-dac9-662d149bc6a4"
      },
      "outputs": [
        {
          "output_type": "stream",
          "name": "stdout",
          "text": [
            "Drive already mounted at /content/drive/; to attempt to forcibly remount, call drive.mount(\"/content/drive/\", force_remount=True).\n"
          ]
        }
      ],
      "source": [
        "from google.colab import drive\n",
        "drive.mount('/content/drive/')"
      ]
    },
    {
      "cell_type": "code",
      "source": [
        "import zipfile"
      ],
      "metadata": {
        "id": "IYThdfD4DZr0"
      },
      "execution_count": 50,
      "outputs": []
    },
    {
      "cell_type": "code",
      "execution_count": 51,
      "metadata": {
        "id": "kPMtu-XNc4BT"
      },
      "outputs": [],
      "source": [
        "zip_ref = zipfile.ZipFile(\"/content/drive/MyDrive/bvlaja/emosi.zip\", 'r')\n",
        "zip_ref.extractall(\"/content/dataset\")\n",
        "zip_ref.close()"
      ]
    },
    {
      "cell_type": "markdown",
      "source": [
        "Importing libraries"
      ],
      "metadata": {
        "id": "wVoU1Sj1n5eL"
      }
    },
    {
      "cell_type": "code",
      "source": [
        "  >>> import nltk\n",
        "  >>> nltk.download('stopwords')"
      ],
      "metadata": {
        "colab": {
          "base_uri": "https://localhost:8080/"
        },
        "id": "668NoQfpoDgd",
        "outputId": "ee8ce942-f7f3-4d38-d0d5-196b667c1edb"
      },
      "execution_count": 52,
      "outputs": [
        {
          "output_type": "stream",
          "name": "stderr",
          "text": [
            "[nltk_data] Downloading package stopwords to /root/nltk_data...\n",
            "[nltk_data]   Package stopwords is already up-to-date!\n"
          ]
        },
        {
          "output_type": "execute_result",
          "data": {
            "text/plain": [
              "True"
            ]
          },
          "metadata": {},
          "execution_count": 52
        }
      ]
    },
    {
      "cell_type": "markdown",
      "source": [
        "# **Importing libraries**"
      ],
      "metadata": {
        "id": "FpCyLj6rD2Dv"
      }
    },
    {
      "cell_type": "code",
      "source": [
        "import re\n",
        "import nltk\n",
        "import string\n",
        "import numpy as np\n",
        "import pandas as pd\n",
        "import seaborn as sns\n",
        "import matplotlib.pyplot as plt\n",
        "from nltk.corpus import stopwords\n",
        "from nltk.stem import SnowballStemmer, WordNetLemmatizer\n",
        "from sklearn.feature_extraction.text import TfidfVectorizer\n",
        "\n",
        "from sklearn.preprocessing import LabelEncoder\n",
        "from sklearn.model_selection import train_test_split\n",
        "\n",
        "from tensorflow.keras.utils import to_categorical\n",
        "from tensorflow.keras.preprocessing.text import Tokenizer\n",
        "from tensorflow.keras.preprocessing.sequence import pad_sequences\n",
        "\n",
        "from tensorflow.keras.optimizers import Adam\n",
        "from tensorflow.keras.models import Sequential\n",
        "from tensorflow.keras.callbacks import EarlyStopping\n",
        "from tensorflow.keras.layers import Dense, LSTM, Embedding, Bidirectional\n",
        "\n",
        "#nltk.download(\"stopwords\")\n",
        "stop_words = set(stopwords.words(\"english\"))\n",
        "lemmatizer= WordNetLemmatizer()\n",
        "\n",
        "# Modelling\n",
        "from sklearn.model_selection import train_test_split,KFold, GridSearchCV\n",
        "from sklearn.linear_model import LogisticRegression\n",
        "from sklearn.metrics import accuracy_score,confusion_matrix, classification_report\n",
        "from sklearn.pipeline import Pipeline\n",
        "from sklearn.metrics import f1_score\n",
        "from sklearn.svm import SVC"
      ],
      "metadata": {
        "id": "e8xdx1ztn52g"
      },
      "execution_count": 53,
      "outputs": []
    },
    {
      "cell_type": "code",
      "source": [
        "# Read datasets\n",
        "df = pd.read_csv('/content/dataset/Product Reviews Dataset for Emotions Classification Tasks - Indonesian (PRDECT-ID) Dataset/PRDECT-ID Dataset.csv')"
      ],
      "metadata": {
        "id": "fyGH3NWLEFPj"
      },
      "execution_count": 54,
      "outputs": []
    },
    {
      "cell_type": "code",
      "source": [
        "df.head()"
      ],
      "metadata": {
        "colab": {
          "base_uri": "https://localhost:8080/",
          "height": 712
        },
        "id": "M-HiUVG1EHgE",
        "outputId": "730eacbb-411b-444f-883d-238d2ecfe02a"
      },
      "execution_count": 55,
      "outputs": [
        {
          "output_type": "execute_result",
          "data": {
            "text/plain": [
              "                Category                                       Product Name  \\\n",
              "0  Computers and Laptops  Wireless Keyboard i8 Mini TouchPad Mouse 2.4G ...   \n",
              "1  Computers and Laptops  PAKET LISENSI WINDOWS 10 PRO DAN OFFICE 2019 O...   \n",
              "2  Computers and Laptops                SSD Midasforce 128 Gb - Tanpa Caddy   \n",
              "3  Computers and Laptops  ADAPTOR CHARGER MONITOR LCD LED TV LG merek LG...   \n",
              "4  Computers and Laptops  ADAPTOR CHARGER MONITOR LCD LED TV LG merek LG...   \n",
              "\n",
              "                 Location   Price  Overall Rating  Number Sold  Total Review  \\\n",
              "0           Jakarta Utara   53500             4.9         5449          2369   \n",
              "1  Kota Tangerang Selatan   72000             4.9         2359          1044   \n",
              "2           Jakarta Barat  213000             5.0        12300          3573   \n",
              "3           Jakarta Timur   55000             4.7         2030           672   \n",
              "4           Jakarta Timur   55000             4.7         2030           672   \n",
              "\n",
              "   Customer Rating                                    Customer Review  \\\n",
              "0                5  Alhamdulillah berfungsi dengan baik. Packaging...   \n",
              "1                5  barang bagus dan respon cepat, harga bersaing ...   \n",
              "2                5  barang bagus, berfungsi dengan baik, seler ram...   \n",
              "3                5  bagus sesuai harapan penjual nya juga ramah. t...   \n",
              "4                5  Barang Bagus, pengemasan Aman, dapat Berfungsi...   \n",
              "\n",
              "  Sentiment Emotion  \n",
              "0  Positive   Happy  \n",
              "1  Positive   Happy  \n",
              "2  Positive   Happy  \n",
              "3  Positive   Happy  \n",
              "4  Positive   Happy  "
            ],
            "text/html": [
              "\n",
              "  <div id=\"df-4b9625a9-0a34-4224-b2d4-121c2615df5b\" class=\"colab-df-container\">\n",
              "    <div>\n",
              "<style scoped>\n",
              "    .dataframe tbody tr th:only-of-type {\n",
              "        vertical-align: middle;\n",
              "    }\n",
              "\n",
              "    .dataframe tbody tr th {\n",
              "        vertical-align: top;\n",
              "    }\n",
              "\n",
              "    .dataframe thead th {\n",
              "        text-align: right;\n",
              "    }\n",
              "</style>\n",
              "<table border=\"1\" class=\"dataframe\">\n",
              "  <thead>\n",
              "    <tr style=\"text-align: right;\">\n",
              "      <th></th>\n",
              "      <th>Category</th>\n",
              "      <th>Product Name</th>\n",
              "      <th>Location</th>\n",
              "      <th>Price</th>\n",
              "      <th>Overall Rating</th>\n",
              "      <th>Number Sold</th>\n",
              "      <th>Total Review</th>\n",
              "      <th>Customer Rating</th>\n",
              "      <th>Customer Review</th>\n",
              "      <th>Sentiment</th>\n",
              "      <th>Emotion</th>\n",
              "    </tr>\n",
              "  </thead>\n",
              "  <tbody>\n",
              "    <tr>\n",
              "      <th>0</th>\n",
              "      <td>Computers and Laptops</td>\n",
              "      <td>Wireless Keyboard i8 Mini TouchPad Mouse 2.4G ...</td>\n",
              "      <td>Jakarta Utara</td>\n",
              "      <td>53500</td>\n",
              "      <td>4.9</td>\n",
              "      <td>5449</td>\n",
              "      <td>2369</td>\n",
              "      <td>5</td>\n",
              "      <td>Alhamdulillah berfungsi dengan baik. Packaging...</td>\n",
              "      <td>Positive</td>\n",
              "      <td>Happy</td>\n",
              "    </tr>\n",
              "    <tr>\n",
              "      <th>1</th>\n",
              "      <td>Computers and Laptops</td>\n",
              "      <td>PAKET LISENSI WINDOWS 10 PRO DAN OFFICE 2019 O...</td>\n",
              "      <td>Kota Tangerang Selatan</td>\n",
              "      <td>72000</td>\n",
              "      <td>4.9</td>\n",
              "      <td>2359</td>\n",
              "      <td>1044</td>\n",
              "      <td>5</td>\n",
              "      <td>barang bagus dan respon cepat, harga bersaing ...</td>\n",
              "      <td>Positive</td>\n",
              "      <td>Happy</td>\n",
              "    </tr>\n",
              "    <tr>\n",
              "      <th>2</th>\n",
              "      <td>Computers and Laptops</td>\n",
              "      <td>SSD Midasforce 128 Gb - Tanpa Caddy</td>\n",
              "      <td>Jakarta Barat</td>\n",
              "      <td>213000</td>\n",
              "      <td>5.0</td>\n",
              "      <td>12300</td>\n",
              "      <td>3573</td>\n",
              "      <td>5</td>\n",
              "      <td>barang bagus, berfungsi dengan baik, seler ram...</td>\n",
              "      <td>Positive</td>\n",
              "      <td>Happy</td>\n",
              "    </tr>\n",
              "    <tr>\n",
              "      <th>3</th>\n",
              "      <td>Computers and Laptops</td>\n",
              "      <td>ADAPTOR CHARGER MONITOR LCD LED TV LG merek LG...</td>\n",
              "      <td>Jakarta Timur</td>\n",
              "      <td>55000</td>\n",
              "      <td>4.7</td>\n",
              "      <td>2030</td>\n",
              "      <td>672</td>\n",
              "      <td>5</td>\n",
              "      <td>bagus sesuai harapan penjual nya juga ramah. t...</td>\n",
              "      <td>Positive</td>\n",
              "      <td>Happy</td>\n",
              "    </tr>\n",
              "    <tr>\n",
              "      <th>4</th>\n",
              "      <td>Computers and Laptops</td>\n",
              "      <td>ADAPTOR CHARGER MONITOR LCD LED TV LG merek LG...</td>\n",
              "      <td>Jakarta Timur</td>\n",
              "      <td>55000</td>\n",
              "      <td>4.7</td>\n",
              "      <td>2030</td>\n",
              "      <td>672</td>\n",
              "      <td>5</td>\n",
              "      <td>Barang Bagus, pengemasan Aman, dapat Berfungsi...</td>\n",
              "      <td>Positive</td>\n",
              "      <td>Happy</td>\n",
              "    </tr>\n",
              "  </tbody>\n",
              "</table>\n",
              "</div>\n",
              "    <div class=\"colab-df-buttons\">\n",
              "\n",
              "  <div class=\"colab-df-container\">\n",
              "    <button class=\"colab-df-convert\" onclick=\"convertToInteractive('df-4b9625a9-0a34-4224-b2d4-121c2615df5b')\"\n",
              "            title=\"Convert this dataframe to an interactive table.\"\n",
              "            style=\"display:none;\">\n",
              "\n",
              "  <svg xmlns=\"http://www.w3.org/2000/svg\" height=\"24px\" viewBox=\"0 -960 960 960\">\n",
              "    <path d=\"M120-120v-720h720v720H120Zm60-500h600v-160H180v160Zm220 220h160v-160H400v160Zm0 220h160v-160H400v160ZM180-400h160v-160H180v160Zm440 0h160v-160H620v160ZM180-180h160v-160H180v160Zm440 0h160v-160H620v160Z\"/>\n",
              "  </svg>\n",
              "    </button>\n",
              "\n",
              "  <style>\n",
              "    .colab-df-container {\n",
              "      display:flex;\n",
              "      gap: 12px;\n",
              "    }\n",
              "\n",
              "    .colab-df-convert {\n",
              "      background-color: #E8F0FE;\n",
              "      border: none;\n",
              "      border-radius: 50%;\n",
              "      cursor: pointer;\n",
              "      display: none;\n",
              "      fill: #1967D2;\n",
              "      height: 32px;\n",
              "      padding: 0 0 0 0;\n",
              "      width: 32px;\n",
              "    }\n",
              "\n",
              "    .colab-df-convert:hover {\n",
              "      background-color: #E2EBFA;\n",
              "      box-shadow: 0px 1px 2px rgba(60, 64, 67, 0.3), 0px 1px 3px 1px rgba(60, 64, 67, 0.15);\n",
              "      fill: #174EA6;\n",
              "    }\n",
              "\n",
              "    .colab-df-buttons div {\n",
              "      margin-bottom: 4px;\n",
              "    }\n",
              "\n",
              "    [theme=dark] .colab-df-convert {\n",
              "      background-color: #3B4455;\n",
              "      fill: #D2E3FC;\n",
              "    }\n",
              "\n",
              "    [theme=dark] .colab-df-convert:hover {\n",
              "      background-color: #434B5C;\n",
              "      box-shadow: 0px 1px 3px 1px rgba(0, 0, 0, 0.15);\n",
              "      filter: drop-shadow(0px 1px 2px rgba(0, 0, 0, 0.3));\n",
              "      fill: #FFFFFF;\n",
              "    }\n",
              "  </style>\n",
              "\n",
              "    <script>\n",
              "      const buttonEl =\n",
              "        document.querySelector('#df-4b9625a9-0a34-4224-b2d4-121c2615df5b button.colab-df-convert');\n",
              "      buttonEl.style.display =\n",
              "        google.colab.kernel.accessAllowed ? 'block' : 'none';\n",
              "\n",
              "      async function convertToInteractive(key) {\n",
              "        const element = document.querySelector('#df-4b9625a9-0a34-4224-b2d4-121c2615df5b');\n",
              "        const dataTable =\n",
              "          await google.colab.kernel.invokeFunction('convertToInteractive',\n",
              "                                                    [key], {});\n",
              "        if (!dataTable) return;\n",
              "\n",
              "        const docLinkHtml = 'Like what you see? Visit the ' +\n",
              "          '<a target=\"_blank\" href=https://colab.research.google.com/notebooks/data_table.ipynb>data table notebook</a>'\n",
              "          + ' to learn more about interactive tables.';\n",
              "        element.innerHTML = '';\n",
              "        dataTable['output_type'] = 'display_data';\n",
              "        await google.colab.output.renderOutput(dataTable, element);\n",
              "        const docLink = document.createElement('div');\n",
              "        docLink.innerHTML = docLinkHtml;\n",
              "        element.appendChild(docLink);\n",
              "      }\n",
              "    </script>\n",
              "  </div>\n",
              "\n",
              "\n",
              "<div id=\"df-4da1f6aa-00c9-40ee-93d3-1c2a0f417891\">\n",
              "  <button class=\"colab-df-quickchart\" onclick=\"quickchart('df-4da1f6aa-00c9-40ee-93d3-1c2a0f417891')\"\n",
              "            title=\"Suggest charts\"\n",
              "            style=\"display:none;\">\n",
              "\n",
              "<svg xmlns=\"http://www.w3.org/2000/svg\" height=\"24px\"viewBox=\"0 0 24 24\"\n",
              "     width=\"24px\">\n",
              "    <g>\n",
              "        <path d=\"M19 3H5c-1.1 0-2 .9-2 2v14c0 1.1.9 2 2 2h14c1.1 0 2-.9 2-2V5c0-1.1-.9-2-2-2zM9 17H7v-7h2v7zm4 0h-2V7h2v10zm4 0h-2v-4h2v4z\"/>\n",
              "    </g>\n",
              "</svg>\n",
              "  </button>\n",
              "\n",
              "<style>\n",
              "  .colab-df-quickchart {\n",
              "      --bg-color: #E8F0FE;\n",
              "      --fill-color: #1967D2;\n",
              "      --hover-bg-color: #E2EBFA;\n",
              "      --hover-fill-color: #174EA6;\n",
              "      --disabled-fill-color: #AAA;\n",
              "      --disabled-bg-color: #DDD;\n",
              "  }\n",
              "\n",
              "  [theme=dark] .colab-df-quickchart {\n",
              "      --bg-color: #3B4455;\n",
              "      --fill-color: #D2E3FC;\n",
              "      --hover-bg-color: #434B5C;\n",
              "      --hover-fill-color: #FFFFFF;\n",
              "      --disabled-bg-color: #3B4455;\n",
              "      --disabled-fill-color: #666;\n",
              "  }\n",
              "\n",
              "  .colab-df-quickchart {\n",
              "    background-color: var(--bg-color);\n",
              "    border: none;\n",
              "    border-radius: 50%;\n",
              "    cursor: pointer;\n",
              "    display: none;\n",
              "    fill: var(--fill-color);\n",
              "    height: 32px;\n",
              "    padding: 0;\n",
              "    width: 32px;\n",
              "  }\n",
              "\n",
              "  .colab-df-quickchart:hover {\n",
              "    background-color: var(--hover-bg-color);\n",
              "    box-shadow: 0 1px 2px rgba(60, 64, 67, 0.3), 0 1px 3px 1px rgba(60, 64, 67, 0.15);\n",
              "    fill: var(--button-hover-fill-color);\n",
              "  }\n",
              "\n",
              "  .colab-df-quickchart-complete:disabled,\n",
              "  .colab-df-quickchart-complete:disabled:hover {\n",
              "    background-color: var(--disabled-bg-color);\n",
              "    fill: var(--disabled-fill-color);\n",
              "    box-shadow: none;\n",
              "  }\n",
              "\n",
              "  .colab-df-spinner {\n",
              "    border: 2px solid var(--fill-color);\n",
              "    border-color: transparent;\n",
              "    border-bottom-color: var(--fill-color);\n",
              "    animation:\n",
              "      spin 1s steps(1) infinite;\n",
              "  }\n",
              "\n",
              "  @keyframes spin {\n",
              "    0% {\n",
              "      border-color: transparent;\n",
              "      border-bottom-color: var(--fill-color);\n",
              "      border-left-color: var(--fill-color);\n",
              "    }\n",
              "    20% {\n",
              "      border-color: transparent;\n",
              "      border-left-color: var(--fill-color);\n",
              "      border-top-color: var(--fill-color);\n",
              "    }\n",
              "    30% {\n",
              "      border-color: transparent;\n",
              "      border-left-color: var(--fill-color);\n",
              "      border-top-color: var(--fill-color);\n",
              "      border-right-color: var(--fill-color);\n",
              "    }\n",
              "    40% {\n",
              "      border-color: transparent;\n",
              "      border-right-color: var(--fill-color);\n",
              "      border-top-color: var(--fill-color);\n",
              "    }\n",
              "    60% {\n",
              "      border-color: transparent;\n",
              "      border-right-color: var(--fill-color);\n",
              "    }\n",
              "    80% {\n",
              "      border-color: transparent;\n",
              "      border-right-color: var(--fill-color);\n",
              "      border-bottom-color: var(--fill-color);\n",
              "    }\n",
              "    90% {\n",
              "      border-color: transparent;\n",
              "      border-bottom-color: var(--fill-color);\n",
              "    }\n",
              "  }\n",
              "</style>\n",
              "\n",
              "  <script>\n",
              "    async function quickchart(key) {\n",
              "      const quickchartButtonEl =\n",
              "        document.querySelector('#' + key + ' button');\n",
              "      quickchartButtonEl.disabled = true;  // To prevent multiple clicks.\n",
              "      quickchartButtonEl.classList.add('colab-df-spinner');\n",
              "      try {\n",
              "        const charts = await google.colab.kernel.invokeFunction(\n",
              "            'suggestCharts', [key], {});\n",
              "      } catch (error) {\n",
              "        console.error('Error during call to suggestCharts:', error);\n",
              "      }\n",
              "      quickchartButtonEl.classList.remove('colab-df-spinner');\n",
              "      quickchartButtonEl.classList.add('colab-df-quickchart-complete');\n",
              "    }\n",
              "    (() => {\n",
              "      let quickchartButtonEl =\n",
              "        document.querySelector('#df-4da1f6aa-00c9-40ee-93d3-1c2a0f417891 button');\n",
              "      quickchartButtonEl.style.display =\n",
              "        google.colab.kernel.accessAllowed ? 'block' : 'none';\n",
              "    })();\n",
              "  </script>\n",
              "</div>\n",
              "    </div>\n",
              "  </div>\n"
            ],
            "application/vnd.google.colaboratory.intrinsic+json": {
              "type": "dataframe",
              "variable_name": "df",
              "summary": "{\n  \"name\": \"df\",\n  \"rows\": 5400,\n  \"fields\": [\n    {\n      \"column\": \"Category\",\n      \"properties\": {\n        \"dtype\": \"category\",\n        \"num_unique_values\": 29,\n        \"samples\": [\n          \"Health\",\n          \"Electronics\",\n          \"Property\"\n        ],\n        \"semantic_type\": \"\",\n        \"description\": \"\"\n      }\n    },\n    {\n      \"column\": \"Product Name\",\n      \"properties\": {\n        \"dtype\": \"category\",\n        \"num_unique_values\": 1308,\n        \"samples\": [\n          \"UCHII Air Diffuser Aroma Therapy w/ Electric Night Bluetooth Speaker\",\n          \"(BARU) Buku Rich Dad Poor Dad . Robert T Kiyosaki Motivasi Best Seller\",\n          \"HIJAB SPORT INSTAN/ HIJAB OLAHRAGA/ HIJAB PET SPORT TERMURAH - Milo\"\n        ],\n        \"semantic_type\": \"\",\n        \"description\": \"\"\n      }\n    },\n    {\n      \"column\": \"Location\",\n      \"properties\": {\n        \"dtype\": \"category\",\n        \"num_unique_values\": 61,\n        \"samples\": [\n          \"Jakarta Utara\",\n          \"Jakarta Pusat\",\n          \"Pekalongan\"\n        ],\n        \"semantic_type\": \"\",\n        \"description\": \"\"\n      }\n    },\n    {\n      \"column\": \"Price\",\n      \"properties\": {\n        \"dtype\": \"number\",\n        \"std\": 801633,\n        \"min\": 100,\n        \"max\": 15399000,\n        \"num_unique_values\": 555,\n        \"samples\": [\n          76900,\n          339000,\n          308000\n        ],\n        \"semantic_type\": \"\",\n        \"description\": \"\"\n      }\n    },\n    {\n      \"column\": \"Overall Rating\",\n      \"properties\": {\n        \"dtype\": \"number\",\n        \"std\": 0.10825869503902574,\n        \"min\": 4.1,\n        \"max\": 5.0,\n        \"num_unique_values\": 10,\n        \"samples\": [\n          4.2,\n          5.0,\n          4.6\n        ],\n        \"semantic_type\": \"\",\n        \"description\": \"\"\n      }\n    },\n    {\n      \"column\": \"Number Sold\",\n      \"properties\": {\n        \"dtype\": \"number\",\n        \"std\": 74201,\n        \"min\": 9,\n        \"max\": 1000000,\n        \"num_unique_values\": 1043,\n        \"samples\": [\n          2729,\n          5659,\n          390\n        ],\n        \"semantic_type\": \"\",\n        \"description\": \"\"\n      }\n    },\n    {\n      \"column\": \"Total Review\",\n      \"properties\": {\n        \"dtype\": \"number\",\n        \"std\": 2915,\n        \"min\": 4,\n        \"max\": 24500,\n        \"num_unique_values\": 958,\n        \"samples\": [\n          738,\n          705,\n          2071\n        ],\n        \"semantic_type\": \"\",\n        \"description\": \"\"\n      }\n    },\n    {\n      \"column\": \"Customer Rating\",\n      \"properties\": {\n        \"dtype\": \"number\",\n        \"std\": 1,\n        \"min\": 1,\n        \"max\": 5,\n        \"num_unique_values\": 5,\n        \"samples\": [\n          1,\n          4,\n          3\n        ],\n        \"semantic_type\": \"\",\n        \"description\": \"\"\n      }\n    },\n    {\n      \"column\": \"Customer Review\",\n      \"properties\": {\n        \"dtype\": \"string\",\n        \"num_unique_values\": 5305,\n        \"samples\": [\n          \"Pembelian kedua tapi baru buka langsung sobek bagian atas, :(\",\n          \"Pengunci baling baling nya, tidakk ada... next dicek dengan teliti lah sbelum kirim. Bagus cocok dengan kipas angin lama yang rusak\",\n          \"Berfungsi dengan baik, fast charge jalan\"\n        ],\n        \"semantic_type\": \"\",\n        \"description\": \"\"\n      }\n    },\n    {\n      \"column\": \"Sentiment\",\n      \"properties\": {\n        \"dtype\": \"category\",\n        \"num_unique_values\": 2,\n        \"samples\": [\n          \"Negative\",\n          \"Positive\"\n        ],\n        \"semantic_type\": \"\",\n        \"description\": \"\"\n      }\n    },\n    {\n      \"column\": \"Emotion\",\n      \"properties\": {\n        \"dtype\": \"category\",\n        \"num_unique_values\": 5,\n        \"samples\": [\n          \"Sadness\",\n          \"Fear\"\n        ],\n        \"semantic_type\": \"\",\n        \"description\": \"\"\n      }\n    }\n  ]\n}"
            }
          },
          "metadata": {},
          "execution_count": 55
        }
      ]
    },
    {
      "cell_type": "code",
      "source": [
        "#print the shape of the data set\n",
        "print(df.shape)"
      ],
      "metadata": {
        "colab": {
          "base_uri": "https://localhost:8080/"
        },
        "id": "IMlIX8hhEKWm",
        "outputId": "0892fc5c-97f0-408d-c20e-773b9e68308c"
      },
      "execution_count": 56,
      "outputs": [
        {
          "output_type": "stream",
          "name": "stdout",
          "text": [
            "(5400, 11)\n"
          ]
        }
      ]
    },
    {
      "cell_type": "markdown",
      "source": [
        "# **Assessing**\n",
        "\n",
        "Train dataset"
      ],
      "metadata": {
        "id": "9OUQ-Gr7ENVD"
      }
    },
    {
      "cell_type": "code",
      "source": [
        "#check if the data is balanced or not\n",
        "df.Emotion.value_counts()"
      ],
      "metadata": {
        "colab": {
          "base_uri": "https://localhost:8080/"
        },
        "id": "Z5F7W2Sho7U0",
        "outputId": "63458c3a-46b3-4d6b-a1f6-ec8ad1be1874"
      },
      "execution_count": 57,
      "outputs": [
        {
          "output_type": "execute_result",
          "data": {
            "text/plain": [
              "Happy      1770\n",
              "Sadness    1202\n",
              "Fear        920\n",
              "Love        809\n",
              "Anger       699\n",
              "Name: Emotion, dtype: int64"
            ]
          },
          "metadata": {},
          "execution_count": 57
        }
      ]
    },
    {
      "cell_type": "code",
      "source": [
        "#check if the data is balanced or not\n",
        "df.Emotion.value_counts() / df.shape[0] *100"
      ],
      "metadata": {
        "colab": {
          "base_uri": "https://localhost:8080/"
        },
        "id": "nRFN0C6MpNAH",
        "outputId": "51a886da-ae99-4b04-ce93-75aafa65121e"
      },
      "execution_count": 58,
      "outputs": [
        {
          "output_type": "execute_result",
          "data": {
            "text/plain": [
              "Happy      32.777778\n",
              "Sadness    22.259259\n",
              "Fear       17.037037\n",
              "Love       14.981481\n",
              "Anger      12.944444\n",
              "Name: Emotion, dtype: float64"
            ]
          },
          "metadata": {},
          "execution_count": 58
        }
      ]
    },
    {
      "cell_type": "code",
      "source": [
        "plt.figure(figsize=(8,4))\n",
        "sns.countplot(x='Emotion', data=df);"
      ],
      "metadata": {
        "colab": {
          "base_uri": "https://localhost:8080/",
          "height": 348
        },
        "id": "SlUJA79CpRgB",
        "outputId": "70feb1d1-d0a3-45ed-85f5-1fbe53b5f445"
      },
      "execution_count": 59,
      "outputs": [
        {
          "output_type": "display_data",
          "data": {
            "text/plain": [
              "<Figure size 800x400 with 1 Axes>"
            ],
            "image/png": "[encoded data removed]"
          },
          "metadata": {}
        }
      ]
    },
    {
      "cell_type": "code",
      "source": [
        "#print the number of null values in each column\n",
        "df.isnull().sum()"
      ],
      "metadata": {
        "colab": {
          "base_uri": "https://localhost:8080/"
        },
        "id": "YnECnTg9pWsq",
        "outputId": "21fed5bf-c92c-4073-c1e3-3fe3ef1bbd0d"
      },
      "execution_count": 60,
      "outputs": [
        {
          "output_type": "execute_result",
          "data": {
            "text/plain": [
              "Category           0\n",
              "Product Name       0\n",
              "Location           0\n",
              "Price              0\n",
              "Overall Rating     0\n",
              "Number Sold        0\n",
              "Total Review       0\n",
              "Customer Rating    0\n",
              "Customer Review    0\n",
              "Sentiment          0\n",
              "Emotion            0\n",
              "dtype: int64"
            ]
          },
          "metadata": {},
          "execution_count": 60
        }
      ]
    },
    {
      "cell_type": "code",
      "source": [
        "#print the number of duplicated values\n",
        "df.duplicated().sum()"
      ],
      "metadata": {
        "colab": {
          "base_uri": "https://localhost:8080/"
        },
        "id": "qWsULGhbphHG",
        "outputId": "20a9006d-ca7b-4874-d956-99dc0c30f745"
      },
      "execution_count": 61,
      "outputs": [
        {
          "output_type": "execute_result",
          "data": {
            "text/plain": [
              "7"
            ]
          },
          "metadata": {},
          "execution_count": 61
        }
      ]
    },
    {
      "cell_type": "code",
      "source": [
        "#removing duplicated values\n",
        "index = df[df.duplicated() == True].index\n",
        "df.drop(index, axis = 0, inplace = True)\n",
        "df.reset_index(inplace=True, drop = True)"
      ],
      "metadata": {
        "id": "ZAnn8yyMpk13"
      },
      "execution_count": 62,
      "outputs": []
    },
    {
      "cell_type": "code",
      "source": [
        "#print the rows which are duplicated (duplicated in the Customer Review\t but with different emotions)\n",
        "df[df['Customer Review'].duplicated() == True]"
      ],
      "metadata": {
        "colab": {
          "base_uri": "https://localhost:8080/",
          "height": 1000
        },
        "id": "Jcm2MEGppvXk",
        "outputId": "a7085948-8a4d-4819-be72-678256f8aadb"
      },
      "execution_count": 63,
      "outputs": [
        {
          "output_type": "execute_result",
          "data": {
            "text/plain": [
              "                   Category  \\\n",
              "76    Computers and Laptops   \n",
              "187   Computers and Laptops   \n",
              "188   Computers and Laptops   \n",
              "278        Toys and Hobbies   \n",
              "279        Toys and Hobbies   \n",
              "...                     ...   \n",
              "4025                Kitchen   \n",
              "4137            Electronics   \n",
              "4903        Mother and Baby   \n",
              "5166                 Beauty   \n",
              "5271                 Health   \n",
              "\n",
              "                                           Product Name        Location  \\\n",
              "76    Logitech M191 Mouse Wireless Full Size - Mid Grey   Jakarta Timur   \n",
              "187   RB - C78 Meja Laptop Lipat Portable Meja Belaj...  Kab. Tangerang   \n",
              "188   RB - C78 Meja Laptop Lipat Portable Meja Belaj...  Kab. Tangerang   \n",
              "278   Paket UNO STACKO + KARTU UNO + 2 DADU - paket ...   Jakarta Pusat   \n",
              "279                Jumping Pirates Roulette Family Game  Kota Tangerang   \n",
              "...                                                 ...             ...   \n",
              "4025                Bagus Anti Bau Gel Lemari Es 180 gr   Jakarta Utara   \n",
              "4137  Xiaomi Xiaovv Webcam 1080P USB Camera Full HD ...   Jakarta Barat   \n",
              "4903                   Merries Pants Positive Skin L 39     Kota Bekasi   \n",
              "5166  MAKE OVER Hydrastay Radiant Finishing Powder 8...     Kab. Serang   \n",
              "5271  Peppermint Essential Oil / Minyak Mint Aroma T...  Kab. Tangerang   \n",
              "\n",
              "       Price  Overall Rating  Number Sold  Total Review  Customer Rating  \\\n",
              "76    299000             4.9         9798          5559                1   \n",
              "187    39998             4.7         5936          2344                1   \n",
              "188    39998             4.7         5936          2344                1   \n",
              "278    50000             4.9         6036          3462                1   \n",
              "279    35000             4.8         5415          2330                1   \n",
              "...      ...             ...          ...           ...              ...   \n",
              "4025   37300             4.9         5216          1413                1   \n",
              "4137  188000             4.9         3231          1518                1   \n",
              "4903   50800             5.0         5700          1696                3   \n",
              "5166  120000             4.9         3055          1694                5   \n",
              "5271   29000             4.9         3195          1400                5   \n",
              "\n",
              "                                        Customer Review Sentiment  Emotion  \n",
              "76      Sangat kecewa. Baru 4 bulan scroll sudah rusak.  Negative  Sadness  \n",
              "187   biarkan gambar bercerita.. pesan 20 bh yg rusa...  Negative     Fear  \n",
              "188   Seharusnya chat dijadikan makesure barang, war...  Negative     Fear  \n",
              "278          barangnya datang dalam keadaan tidak bagus  Negative    Anger  \n",
              "279   Barang rusak ga berfungsi sama sekali� ga bisa...  Negative    Anger  \n",
              "...                                                 ...       ...      ...  \n",
              "4025                             Pengiriman sangat lama  Negative  Sadness  \n",
              "4137  Packing seadanya, bubble hanya selapis saja di...  Negative  Sadness  \n",
              "4903                        packingnya kurang memuaskan  Negative    Anger  \n",
              "5166  Pengiriman cepat. Pesanan sesuai. Gak ada caca...  Positive    Happy  \n",
              "5271                                       bagus banget  Positive     Love  \n",
              "\n",
              "[88 rows x 11 columns]"
            ],
            "text/html": [
              "\n",
              "  <div id=\"df-330f9f8c-4347-4047-9530-2ac6f3e7ea53\" class=\"colab-df-container\">\n",
              "    <div>\n",
              "<style scoped>\n",
              "    .dataframe tbody tr th:only-of-type {\n",
              "        vertical-align: middle;\n",
              "    }\n",
              "\n",
              "    .dataframe tbody tr th {\n",
              "        vertical-align: top;\n",
              "    }\n",
              "\n",
              "    .dataframe thead th {\n",
              "        text-align: right;\n",
              "    }\n",
              "</style>\n",
              "<table border=\"1\" class=\"dataframe\">\n",
              "  <thead>\n",
              "    <tr style=\"text-align: right;\">\n",
              "      <th></th>\n",
              "      <th>Category</th>\n",
              "      <th>Product Name</th>\n",
              "      <th>Location</th>\n",
              "      <th>Price</th>\n",
              "      <th>Overall Rating</th>\n",
              "      <th>Number Sold</th>\n",
              "      <th>Total Review</th>\n",
              "      <th>Customer Rating</th>\n",
              "      <th>Customer Review</th>\n",
              "      <th>Sentiment</th>\n",
              "      <th>Emotion</th>\n",
              "    </tr>\n",
              "  </thead>\n",
              "  <tbody>\n",
              "    <tr>\n",
              "      <th>76</th>\n",
              "      <td>Computers and Laptops</td>\n",
              "      <td>Logitech M191 Mouse Wireless Full Size - Mid Grey</td>\n",
              "      <td>Jakarta Timur</td>\n",
              "      <td>299000</td>\n",
              "      <td>4.9</td>\n",
              "      <td>9798</td>\n",
              "      <td>5559</td>\n",
              "      <td>1</td>\n",
              "      <td>Sangat kecewa. Baru 4 bulan scroll sudah rusak.</td>\n",
              "      <td>Negative</td>\n",
              "      <td>Sadness</td>\n",
              "    </tr>\n",
              "    <tr>\n",
              "      <th>187</th>\n",
              "      <td>Computers and Laptops</td>\n",
              "      <td>RB - C78 Meja Laptop Lipat Portable Meja Belaj...</td>\n",
              "      <td>Kab. Tangerang</td>\n",
              "      <td>39998</td>\n",
              "      <td>4.7</td>\n",
              "      <td>5936</td>\n",
              "      <td>2344</td>\n",
              "      <td>1</td>\n",
              "      <td>biarkan gambar bercerita.. pesan 20 bh yg rusa...</td>\n",
              "      <td>Negative</td>\n",
              "      <td>Fear</td>\n",
              "    </tr>\n",
              "    <tr>\n",
              "      <th>188</th>\n",
              "      <td>Computers and Laptops</td>\n",
              "      <td>RB - C78 Meja Laptop Lipat Portable Meja Belaj...</td>\n",
              "      <td>Kab. Tangerang</td>\n",
              "      <td>39998</td>\n",
              "      <td>4.7</td>\n",
              "      <td>5936</td>\n",
              "      <td>2344</td>\n",
              "      <td>1</td>\n",
              "      <td>Seharusnya chat dijadikan makesure barang, war...</td>\n",
              "      <td>Negative</td>\n",
              "      <td>Fear</td>\n",
              "    </tr>\n",
              "    <tr>\n",
              "      <th>278</th>\n",
              "      <td>Toys and Hobbies</td>\n",
              "      <td>Paket UNO STACKO + KARTU UNO + 2 DADU - paket ...</td>\n",
              "      <td>Jakarta Pusat</td>\n",
              "      <td>50000</td>\n",
              "      <td>4.9</td>\n",
              "      <td>6036</td>\n",
              "      <td>3462</td>\n",
              "      <td>1</td>\n",
              "      <td>barangnya datang dalam keadaan tidak bagus</td>\n",
              "      <td>Negative</td>\n",
              "      <td>Anger</td>\n",
              "    </tr>\n",
              "    <tr>\n",
              "      <th>279</th>\n",
              "      <td>Toys and Hobbies</td>\n",
              "      <td>Jumping Pirates Roulette Family Game</td>\n",
              "      <td>Kota Tangerang</td>\n",
              "      <td>35000</td>\n",
              "      <td>4.8</td>\n",
              "      <td>5415</td>\n",
              "      <td>2330</td>\n",
              "      <td>1</td>\n",
              "      <td>Barang rusak ga berfungsi sama sekali� ga bisa...</td>\n",
              "      <td>Negative</td>\n",
              "      <td>Anger</td>\n",
              "    </tr>\n",
              "    <tr>\n",
              "      <th>...</th>\n",
              "      <td>...</td>\n",
              "      <td>...</td>\n",
              "      <td>...</td>\n",
              "      <td>...</td>\n",
              "      <td>...</td>\n",
              "      <td>...</td>\n",
              "      <td>...</td>\n",
              "      <td>...</td>\n",
              "      <td>...</td>\n",
              "      <td>...</td>\n",
              "      <td>...</td>\n",
              "    </tr>\n",
              "    <tr>\n",
              "      <th>4025</th>\n",
              "      <td>Kitchen</td>\n",
              "      <td>Bagus Anti Bau Gel Lemari Es 180 gr</td>\n",
              "      <td>Jakarta Utara</td>\n",
              "      <td>37300</td>\n",
              "      <td>4.9</td>\n",
              "      <td>5216</td>\n",
              "      <td>1413</td>\n",
              "      <td>1</td>\n",
              "      <td>Pengiriman sangat lama</td>\n",
              "      <td>Negative</td>\n",
              "      <td>Sadness</td>\n",
              "    </tr>\n",
              "    <tr>\n",
              "      <th>4137</th>\n",
              "      <td>Electronics</td>\n",
              "      <td>Xiaomi Xiaovv Webcam 1080P USB Camera Full HD ...</td>\n",
              "      <td>Jakarta Barat</td>\n",
              "      <td>188000</td>\n",
              "      <td>4.9</td>\n",
              "      <td>3231</td>\n",
              "      <td>1518</td>\n",
              "      <td>1</td>\n",
              "      <td>Packing seadanya, bubble hanya selapis saja di...</td>\n",
              "      <td>Negative</td>\n",
              "      <td>Sadness</td>\n",
              "    </tr>\n",
              "    <tr>\n",
              "      <th>4903</th>\n",
              "      <td>Mother and Baby</td>\n",
              "      <td>Merries Pants Positive Skin L 39</td>\n",
              "      <td>Kota Bekasi</td>\n",
              "      <td>50800</td>\n",
              "      <td>5.0</td>\n",
              "      <td>5700</td>\n",
              "      <td>1696</td>\n",
              "      <td>3</td>\n",
              "      <td>packingnya kurang memuaskan</td>\n",
              "      <td>Negative</td>\n",
              "      <td>Anger</td>\n",
              "    </tr>\n",
              "    <tr>\n",
              "      <th>5166</th>\n",
              "      <td>Beauty</td>\n",
              "      <td>MAKE OVER Hydrastay Radiant Finishing Powder 8...</td>\n",
              "      <td>Kab. Serang</td>\n",
              "      <td>120000</td>\n",
              "      <td>4.9</td>\n",
              "      <td>3055</td>\n",
              "      <td>1694</td>\n",
              "      <td>5</td>\n",
              "      <td>Pengiriman cepat. Pesanan sesuai. Gak ada caca...</td>\n",
              "      <td>Positive</td>\n",
              "      <td>Happy</td>\n",
              "    </tr>\n",
              "    <tr>\n",
              "      <th>5271</th>\n",
              "      <td>Health</td>\n",
              "      <td>Peppermint Essential Oil / Minyak Mint Aroma T...</td>\n",
              "      <td>Kab. Tangerang</td>\n",
              "      <td>29000</td>\n",
              "      <td>4.9</td>\n",
              "      <td>3195</td>\n",
              "      <td>1400</td>\n",
              "      <td>5</td>\n",
              "      <td>bagus banget</td>\n",
              "      <td>Positive</td>\n",
              "      <td>Love</td>\n",
              "    </tr>\n",
              "  </tbody>\n",
              "</table>\n",
              "<p>88 rows × 11 columns</p>\n",
              "</div>\n",
              "    <div class=\"colab-df-buttons\">\n",
              "\n",
              "  <div class=\"colab-df-container\">\n",
              "    <button class=\"colab-df-convert\" onclick=\"convertToInteractive('df-330f9f8c-4347-4047-9530-2ac6f3e7ea53')\"\n",
              "            title=\"Convert this dataframe to an interactive table.\"\n",
              "            style=\"display:none;\">\n",
              "\n",
              "  <svg xmlns=\"http://www.w3.org/2000/svg\" height=\"24px\" viewBox=\"0 -960 960 960\">\n",
              "    <path d=\"M120-120v-720h720v720H120Zm60-500h600v-160H180v160Zm220 220h160v-160H400v160Zm0 220h160v-160H400v160ZM180-400h160v-160H180v160Zm440 0h160v-160H620v160ZM180-180h160v-160H180v160Zm440 0h160v-160H620v160Z\"/>\n",
              "  </svg>\n",
              "    </button>\n",
              "\n",
              "  <style>\n",
              "    .colab-df-container {\n",
              "      display:flex;\n",
              "      gap: 12px;\n",
              "    }\n",
              "\n",
              "    .colab-df-convert {\n",
              "      background-color: #E8F0FE;\n",
              "      border: none;\n",
              "      border-radius: 50%;\n",
              "      cursor: pointer;\n",
              "      display: none;\n",
              "      fill: #1967D2;\n",
              "      height: 32px;\n",
              "      padding: 0 0 0 0;\n",
              "      width: 32px;\n",
              "    }\n",
              "\n",
              "    .colab-df-convert:hover {\n",
              "      background-color: #E2EBFA;\n",
              "      box-shadow: 0px 1px 2px rgba(60, 64, 67, 0.3), 0px 1px 3px 1px rgba(60, 64, 67, 0.15);\n",
              "      fill: #174EA6;\n",
              "    }\n",
              "\n",
              "    .colab-df-buttons div {\n",
              "      margin-bottom: 4px;\n",
              "    }\n",
              "\n",
              "    [theme=dark] .colab-df-convert {\n",
              "      background-color: #3B4455;\n",
              "      fill: #D2E3FC;\n",
              "    }\n",
              "\n",
              "    [theme=dark] .colab-df-convert:hover {\n",
              "      background-color: #434B5C;\n",
              "      box-shadow: 0px 1px 3px 1px rgba(0, 0, 0, 0.15);\n",
              "      filter: drop-shadow(0px 1px 2px rgba(0, 0, 0, 0.3));\n",
              "      fill: #FFFFFF;\n",
              "    }\n",
              "  </style>\n",
              "\n",
              "    <script>\n",
              "      const buttonEl =\n",
              "        document.querySelector('#df-330f9f8c-4347-4047-9530-2ac6f3e7ea53 button.colab-df-convert');\n",
              "      buttonEl.style.display =\n",
              "        google.colab.kernel.accessAllowed ? 'block' : 'none';\n",
              "\n",
              "      async function convertToInteractive(key) {\n",
              "        const element = document.querySelector('#df-330f9f8c-4347-4047-9530-2ac6f3e7ea53');\n",
              "        const dataTable =\n",
              "          await google.colab.kernel.invokeFunction('convertToInteractive',\n",
              "                                                    [key], {});\n",
              "        if (!dataTable) return;\n",
              "\n",
              "        const docLinkHtml = 'Like what you see? Visit the ' +\n",
              "          '<a target=\"_blank\" href=https://colab.research.google.com/notebooks/data_table.ipynb>data table notebook</a>'\n",
              "          + ' to learn more about interactive tables.';\n",
              "        element.innerHTML = '';\n",
              "        dataTable['output_type'] = 'display_data';\n",
              "        await google.colab.output.renderOutput(dataTable, element);\n",
              "        const docLink = document.createElement('div');\n",
              "        docLink.innerHTML = docLinkHtml;\n",
              "        element.appendChild(docLink);\n",
              "      }\n",
              "    </script>\n",
              "  </div>\n",
              "\n",
              "\n",
              "<div id=\"df-b2fa4254-399f-4cc0-bebf-48ddb117d1fd\">\n",
              "  <button class=\"colab-df-quickchart\" onclick=\"quickchart('df-b2fa4254-399f-4cc0-bebf-48ddb117d1fd')\"\n",
              "            title=\"Suggest charts\"\n",
              "            style=\"display:none;\">\n",
              "\n",
              "<svg xmlns=\"http://www.w3.org/2000/svg\" height=\"24px\"viewBox=\"0 0 24 24\"\n",
              "     width=\"24px\">\n",
              "    <g>\n",
              "        <path d=\"M19 3H5c-1.1 0-2 .9-2 2v14c0 1.1.9 2 2 2h14c1.1 0 2-.9 2-2V5c0-1.1-.9-2-2-2zM9 17H7v-7h2v7zm4 0h-2V7h2v10zm4 0h-2v-4h2v4z\"/>\n",
              "    </g>\n",
              "</svg>\n",
              "  </button>\n",
              "\n",
              "<style>\n",
              "  .colab-df-quickchart {\n",
              "      --bg-color: #E8F0FE;\n",
              "      --fill-color: #1967D2;\n",
              "      --hover-bg-color: #E2EBFA;\n",
              "      --hover-fill-color: #174EA6;\n",
              "      --disabled-fill-color: #AAA;\n",
              "      --disabled-bg-color: #DDD;\n",
              "  }\n",
              "\n",
              "  [theme=dark] .colab-df-quickchart {\n",
              "      --bg-color: #3B4455;\n",
              "      --fill-color: #D2E3FC;\n",
              "      --hover-bg-color: #434B5C;\n",
              "      --hover-fill-color: #FFFFFF;\n",
              "      --disabled-bg-color: #3B4455;\n",
              "      --disabled-fill-color: #666;\n",
              "  }\n",
              "\n",
              "  .colab-df-quickchart {\n",
              "    background-color: var(--bg-color);\n",
              "    border: none;\n",
              "    border-radius: 50%;\n",
              "    cursor: pointer;\n",
              "    display: none;\n",
              "    fill: var(--fill-color);\n",
              "    height: 32px;\n",
              "    padding: 0;\n",
              "    width: 32px;\n",
              "  }\n",
              "\n",
              "  .colab-df-quickchart:hover {\n",
              "    background-color: var(--hover-bg-color);\n",
              "    box-shadow: 0 1px 2px rgba(60, 64, 67, 0.3), 0 1px 3px 1px rgba(60, 64, 67, 0.15);\n",
              "    fill: var(--button-hover-fill-color);\n",
              "  }\n",
              "\n",
              "  .colab-df-quickchart-complete:disabled,\n",
              "  .colab-df-quickchart-complete:disabled:hover {\n",
              "    background-color: var(--disabled-bg-color);\n",
              "    fill: var(--disabled-fill-color);\n",
              "    box-shadow: none;\n",
              "  }\n",
              "\n",
              "  .colab-df-spinner {\n",
              "    border: 2px solid var(--fill-color);\n",
              "    border-color: transparent;\n",
              "    border-bottom-color: var(--fill-color);\n",
              "    animation:\n",
              "      spin 1s steps(1) infinite;\n",
              "  }\n",
              "\n",
              "  @keyframes spin {\n",
              "    0% {\n",
              "      border-color: transparent;\n",
              "      border-bottom-color: var(--fill-color);\n",
              "      border-left-color: var(--fill-color);\n",
              "    }\n",
              "    20% {\n",
              "      border-color: transparent;\n",
              "      border-left-color: var(--fill-color);\n",
              "      border-top-color: var(--fill-color);\n",
              "    }\n",
              "    30% {\n",
              "      border-color: transparent;\n",
              "      border-left-color: var(--fill-color);\n",
              "      border-top-color: var(--fill-color);\n",
              "      border-right-color: var(--fill-color);\n",
              "    }\n",
              "    40% {\n",
              "      border-color: transparent;\n",
              "      border-right-color: var(--fill-color);\n",
              "      border-top-color: var(--fill-color);\n",
              "    }\n",
              "    60% {\n",
              "      border-color: transparent;\n",
              "      border-right-color: var(--fill-color);\n",
              "    }\n",
              "    80% {\n",
              "      border-color: transparent;\n",
              "      border-right-color: var(--fill-color);\n",
              "      border-bottom-color: var(--fill-color);\n",
              "    }\n",
              "    90% {\n",
              "      border-color: transparent;\n",
              "      border-bottom-color: var(--fill-color);\n",
              "    }\n",
              "  }\n",
              "</style>\n",
              "\n",
              "  <script>\n",
              "    async function quickchart(key) {\n",
              "      const quickchartButtonEl =\n",
              "        document.querySelector('#' + key + ' button');\n",
              "      quickchartButtonEl.disabled = true;  // To prevent multiple clicks.\n",
              "      quickchartButtonEl.classList.add('colab-df-spinner');\n",
              "      try {\n",
              "        const charts = await google.colab.kernel.invokeFunction(\n",
              "            'suggestCharts', [key], {});\n",
              "      } catch (error) {\n",
              "        console.error('Error during call to suggestCharts:', error);\n",
              "      }\n",
              "      quickchartButtonEl.classList.remove('colab-df-spinner');\n",
              "      quickchartButtonEl.classList.add('colab-df-quickchart-complete');\n",
              "    }\n",
              "    (() => {\n",
              "      let quickchartButtonEl =\n",
              "        document.querySelector('#df-b2fa4254-399f-4cc0-bebf-48ddb117d1fd button');\n",
              "      quickchartButtonEl.style.display =\n",
              "        google.colab.kernel.accessAllowed ? 'block' : 'none';\n",
              "    })();\n",
              "  </script>\n",
              "</div>\n",
              "    </div>\n",
              "  </div>\n"
            ],
            "application/vnd.google.colaboratory.intrinsic+json": {
              "type": "dataframe",
              "summary": "{\n  \"name\": \"df[df['Customer Review']\",\n  \"rows\": 88,\n  \"fields\": [\n    {\n      \"column\": \"Category\",\n      \"properties\": {\n        \"dtype\": \"category\",\n        \"num_unique_values\": 20,\n        \"samples\": [\n          \"Computers and Laptops\",\n          \"Electronics\",\n          \"Mother and Baby\"\n        ],\n        \"semantic_type\": \"\",\n        \"description\": \"\"\n      }\n    },\n    {\n      \"column\": \"Product Name\",\n      \"properties\": {\n        \"dtype\": \"string\",\n        \"num_unique_values\": 56,\n        \"samples\": [\n          \"Logitech M191 Mouse Wireless Full Size - Mid Grey\",\n          \"Mainan Anak CROCODILE DENTIST GAME / MAINAN GIGI BUAYA - GIGIT BUAYA\",\n          \"Hang Tag Label / Hang Tag Baju / Pakaian / Kartu Ucapan - Art Carton 210, Custom Size\"\n        ],\n        \"semantic_type\": \"\",\n        \"description\": \"\"\n      }\n    },\n    {\n      \"column\": \"Location\",\n      \"properties\": {\n        \"dtype\": \"category\",\n        \"num_unique_values\": 17,\n        \"samples\": [\n          \"Jakarta Timur\",\n          \"Kab. Tangerang\",\n          \"Jakarta Utara\"\n        ],\n        \"semantic_type\": \"\",\n        \"description\": \"\"\n      }\n    },\n    {\n      \"column\": \"Price\",\n      \"properties\": {\n        \"dtype\": \"number\",\n        \"std\": 113092,\n        \"min\": 100,\n        \"max\": 590000,\n        \"num_unique_values\": 52,\n        \"samples\": [\n          42000,\n          359000,\n          62000\n        ],\n        \"semantic_type\": \"\",\n        \"description\": \"\"\n      }\n    },\n    {\n      \"column\": \"Overall Rating\",\n      \"properties\": {\n        \"dtype\": \"number\",\n        \"std\": 0.09061931349939363,\n        \"min\": 4.6,\n        \"max\": 5.0,\n        \"num_unique_values\": 5,\n        \"samples\": [\n          4.7,\n          5.0,\n          4.8\n        ],\n        \"semantic_type\": \"\",\n        \"description\": \"\"\n      }\n    },\n    {\n      \"column\": \"Number Sold\",\n      \"properties\": {\n        \"dtype\": \"number\",\n        \"std\": 207848,\n        \"min\": 282,\n        \"max\": 1000000,\n        \"num_unique_values\": 64,\n        \"samples\": [\n          3890,\n          3638,\n          9798\n        ],\n        \"semantic_type\": \"\",\n        \"description\": \"\"\n      }\n    },\n    {\n      \"column\": \"Total Review\",\n      \"properties\": {\n        \"dtype\": \"number\",\n        \"std\": 2932,\n        \"min\": 44,\n        \"max\": 16800,\n        \"num_unique_values\": 64,\n        \"samples\": [\n          2113,\n          1353,\n          5559\n        ],\n        \"semantic_type\": \"\",\n        \"description\": \"\"\n      }\n    },\n    {\n      \"column\": \"Customer Rating\",\n      \"properties\": {\n        \"dtype\": \"number\",\n        \"std\": 1,\n        \"min\": 1,\n        \"max\": 5,\n        \"num_unique_values\": 5,\n        \"samples\": [\n          2,\n          3,\n          5\n        ],\n        \"semantic_type\": \"\",\n        \"description\": \"\"\n      }\n    },\n    {\n      \"column\": \"Customer Review\",\n      \"properties\": {\n        \"dtype\": \"string\",\n        \"num_unique_values\": 79,\n        \"samples\": [\n          \"gak ada pengaruh, kutu msih hidup, sdh saya tes langsung. merasa ditipu nih, semoga dapat karma dah lu\",\n          \"Sangat kecewa. Baru 4 bulan scroll sudah rusak.\",\n          \"Pengiriman lama, barang nya cacat tolong diperbaiki layanan nya !\"\n        ],\n        \"semantic_type\": \"\",\n        \"description\": \"\"\n      }\n    },\n    {\n      \"column\": \"Sentiment\",\n      \"properties\": {\n        \"dtype\": \"category\",\n        \"num_unique_values\": 2,\n        \"samples\": [\n          \"Positive\",\n          \"Negative\"\n        ],\n        \"semantic_type\": \"\",\n        \"description\": \"\"\n      }\n    },\n    {\n      \"column\": \"Emotion\",\n      \"properties\": {\n        \"dtype\": \"category\",\n        \"num_unique_values\": 5,\n        \"samples\": [\n          \"Fear\",\n          \"Love\"\n        ],\n        \"semantic_type\": \"\",\n        \"description\": \"\"\n      }\n    }\n  ]\n}"
            }
          },
          "metadata": {},
          "execution_count": 63
        }
      ]
    },
    {
      "cell_type": "code",
      "source": [
        "#print some of those rows to check\n",
        "print(df[df['Customer Review'] == df.iloc[0]['Customer Review']])\n"
      ],
      "metadata": {
        "colab": {
          "base_uri": "https://localhost:8080/"
        },
        "id": "egUIeBN6pxrE",
        "outputId": "338a71d5-599e-41eb-cf2b-4d085d743c0d"
      },
      "execution_count": 64,
      "outputs": [
        {
          "output_type": "stream",
          "name": "stdout",
          "text": [
            "                Category                                       Product Name  \\\n",
            "0  Computers and Laptops  Wireless Keyboard i8 Mini TouchPad Mouse 2.4G ...   \n",
            "\n",
            "        Location  Price  Overall Rating  Number Sold  Total Review  \\\n",
            "0  Jakarta Utara  53500             4.9         5449          2369   \n",
            "\n",
            "   Customer Rating                                    Customer Review  \\\n",
            "0                5  Alhamdulillah berfungsi dengan baik. Packaging...   \n",
            "\n",
            "  Sentiment Emotion  \n",
            "0  Positive   Happy  \n"
          ]
        }
      ]
    },
    {
      "cell_type": "code",
      "source": [
        "#removing duplicated Customer Review\n",
        "index = df[df['Customer Review'].duplicated() == True].index\n",
        "df.drop(index, axis = 0, inplace = True)"
      ],
      "metadata": {
        "id": "iRUU_Pmpq0X-"
      },
      "execution_count": 65,
      "outputs": []
    },
    {
      "cell_type": "code",
      "source": [
        "#Count the number of stopwords in the data\n",
        "temp =df.copy()\n",
        "stop_words = set(stopwords.words(\"english\"))\n",
        "temp['stop_words'] = temp['Customer Review'].apply(lambda x: len(set(x.split()) & set(stop_words)))"
      ],
      "metadata": {
        "id": "uCLwf0iiq-jS"
      },
      "execution_count": 66,
      "outputs": []
    },
    {
      "cell_type": "code",
      "source": [
        "print(temp['stop_words'])"
      ],
      "metadata": {
        "colab": {
          "base_uri": "https://localhost:8080/"
        },
        "id": "ynX2TLp0rFyc",
        "outputId": "323a73ab-6748-464d-ce6b-1f17818ea05b"
      },
      "execution_count": 67,
      "outputs": [
        {
          "output_type": "stream",
          "name": "stdout",
          "text": [
            "0       0\n",
            "1       0\n",
            "2       0\n",
            "3       0\n",
            "4       0\n",
            "       ..\n",
            "5388    0\n",
            "5389    0\n",
            "5390    0\n",
            "5391    0\n",
            "5392    0\n",
            "Name: stop_words, Length: 5305, dtype: int64\n"
          ]
        }
      ]
    },
    {
      "cell_type": "code",
      "source": [
        "#distribution of stopwords visually\n",
        "temp['stop_words'].plot(kind= 'hist')"
      ],
      "metadata": {
        "colab": {
          "base_uri": "https://localhost:8080/",
          "height": 447
        },
        "id": "TBNJRxj9sBsL",
        "outputId": "32d6edf9-23aa-4126-f984-5efc9b1ce339"
      },
      "execution_count": 68,
      "outputs": [
        {
          "output_type": "execute_result",
          "data": {
            "text/plain": [
              "<Axes: ylabel='Frequency'>"
            ]
          },
          "metadata": {},
          "execution_count": 68
        },
        {
          "output_type": "display_data",
          "data": {
            "text/plain": [
              "<Figure size 640x480 with 1 Axes>"
            ],
            "image/png": "[encoded data removed]"
          },
          "metadata": {}
        }
      ]
    },
    {
      "cell_type": "markdown",
      "source": [
        "**Cleaning**"
      ],
      "metadata": {
        "id": "Y-fgWulYu6p3"
      }
    },
    {
      "cell_type": "code",
      "source": [
        "def lemmatization(text):\n",
        "    lemmatizer= WordNetLemmatizer()\n",
        "\n",
        "    text = text.split()\n",
        "\n",
        "    text=[lemmatizer.lemmatize(y) for y in text]\n",
        "\n",
        "    return \" \" .join(text)\n",
        "\n",
        "def remove_stop_words(text):\n",
        "\n",
        "    Text=[i for i in str(text).split() if i not in stop_words]\n",
        "    return \" \".join(Text)\n",
        "\n",
        "def Removing_numbers(text):\n",
        "    text=''.join([i for i in text if not i.isdigit()])\n",
        "    return text\n",
        "\n",
        "def lower_case(text):\n",
        "\n",
        "    text = text.split()\n",
        "\n",
        "    text=[y.lower() for y in text]\n",
        "\n",
        "    return \" \" .join(text)\n",
        "\n",
        "def Removing_punctuations(text):\n",
        "    ## Remove punctuations\n",
        "    text = re.sub('[%s]' % re.escape(\"\"\"!\"#$%&'()*+,،-./:;<=>؟?@[\\]^_`{|}~\"\"\"), ' ', text)\n",
        "    text = text.replace('؛',\"\", )\n",
        "\n",
        "    ## remove extra whitespace\n",
        "    text = re.sub('\\s+', ' ', text)\n",
        "    text =  \" \".join(text.split())\n",
        "    return text.strip()\n",
        "\n",
        "def Removing_urls(text):\n",
        "    url_pattern = re.compile(r'https?://\\S+|www\\.\\S+')\n",
        "    return url_pattern.sub(r'', text)\n",
        "\n",
        "def remove_small_sentences(df):\n",
        "    for i in range(len(df)):\n",
        "        if len(df.text.iloc[i].split()) < 3:\n",
        "            df.text.iloc[i] = np.nan\n",
        "\n",
        "def normalize_text(df):\n",
        "    df.Text=df.Text.apply(lambda text : lower_case(text))\n",
        "    df.Text=df.Text.apply(lambda text : remove_stop_words(text))\n",
        "    df.Text=df.Text.apply(lambda text : Removing_numbers(text))\n",
        "    df.Text=df.Text.apply(lambda text : Removing_punctuations(text))\n",
        "    df.Text=df.Text.apply(lambda text : Removing_urls(text))\n",
        "    df.Text=df.Text.apply(lambda text : lemmatization(text))\n",
        "    return df\n",
        "\n",
        "def normalized_sentence(sentence):\n",
        "    sentence= lower_case(sentence)\n",
        "    sentence= remove_stop_words(sentence)\n",
        "    sentence= Removing_numbers(sentence)\n",
        "    sentence= Removing_punctuations(sentence)\n",
        "    sentence= Removing_urls(sentence)\n",
        "    sentence= lemmatization(sentence)\n",
        "    return sentence"
      ],
      "metadata": {
        "id": "WFXKT6SIu1zc"
      },
      "execution_count": 69,
      "outputs": []
    },
    {
      "cell_type": "code",
      "source": [
        "def normalize_text(df):\n",
        "    df['Customer Review'] = df['Customer Review'].apply(lambda text: lower_case(text))\n",
        "    df['Customer Review'] = df['Customer Review'].apply(lambda text: remove_stop_words(text))\n",
        "    df['Customer Review'] = df['Customer Review'].apply(lambda text: Removing_numbers(text))\n",
        "    df['Customer Review'] = df['Customer Review'].apply(lambda text: Removing_punctuations(text))\n",
        "    df['Customer Review'] = df['Customer Review'].apply(lambda text: Removing_urls(text))\n",
        "    df['Customer Review'] = df['Customer Review'].apply(lambda text: lemmatization(text))\n",
        "    return df\n"
      ],
      "metadata": {
        "id": "DUn1bV-zvR2H"
      },
      "execution_count": 70,
      "outputs": []
    },
    {
      "cell_type": "markdown",
      "source": [
        "**Modeling**"
      ],
      "metadata": {
        "id": "oGlu7Ow2vvVo"
      }
    },
    {
      "cell_type": "markdown",
      "source": [
        "# **TF-IDF**\n"
      ],
      "metadata": {
        "id": "wPQu8YHDwRR6"
      }
    },
    {
      "cell_type": "code",
      "source": [
        "#Creating a pipline using tf-idf for words embedding and different models.\n"
      ],
      "metadata": {
        "id": "fLv0o-e-vVBe"
      },
      "execution_count": 71,
      "outputs": []
    },
    {
      "cell_type": "code",
      "source": [
        "#Preprocess Customer Review\n",
        "X_train = df['Customer Review'].values\n",
        "y_train = df['Emotion'].values"
      ],
      "metadata": {
        "id": "SKhyXNbKwXxG"
      },
      "execution_count": 72,
      "outputs": []
    },
    {
      "cell_type": "code",
      "source": [
        "def train_model(model, data, targets):\n",
        "\n",
        "    # Create a Pipeline object with a TfidfVectorizer and the given model\n",
        "    text_clf = Pipeline([('vect',TfidfVectorizer()),\n",
        "                         ('clf', model)])\n",
        "    # Fit the model on the data and targets\n",
        "    text_clf.fit(data, targets)\n",
        "    return text_clf"
      ],
      "metadata": {
        "id": "I9p6TZdWwsQt"
      },
      "execution_count": 73,
      "outputs": []
    },
    {
      "cell_type": "code",
      "source": [
        "def get_F1(trained_model,X,y):\n",
        "\n",
        "    # Make predictions on the input data using the trained model\n",
        "    predicted=trained_model.predict(X)\n",
        "    # Calculate the F1 score for the predictions\n",
        "    f1=f1_score(y,predicted, average=None)\n",
        "    # Return the F1 score\n",
        "    return f1"
      ],
      "metadata": {
        "id": "xPTvtsIzwxfm"
      },
      "execution_count": 74,
      "outputs": []
    },
    {
      "cell_type": "markdown",
      "source": [
        "Training the Logistic Regression model on the Training set"
      ],
      "metadata": {
        "id": "kzDL4MQzw3LE"
      }
    },
    {
      "cell_type": "code",
      "source": [
        "#Train the model with the training data\n",
        "log_reg = train_model(LogisticRegression(solver='liblinear',random_state = 0), X_train, y_train)"
      ],
      "metadata": {
        "id": "-ugFOUkrw4VJ"
      },
      "execution_count": 75,
      "outputs": []
    },
    {
      "cell_type": "code",
      "source": [
        "#Make a single prediction\n",
        "y_pred=log_reg.predict(['Happy'])\n",
        "y_pred"
      ],
      "metadata": {
        "colab": {
          "base_uri": "https://localhost:8080/"
        },
        "id": "t-iMjrlQw-vx",
        "outputId": "468e3f41-a84f-4b67-b525-63b463e671c1"
      },
      "execution_count": 76,
      "outputs": [
        {
          "output_type": "execute_result",
          "data": {
            "text/plain": [
              "array(['Love'], dtype=object)"
            ]
          },
          "metadata": {},
          "execution_count": 76
        }
      ]
    },
    {
      "cell_type": "code",
      "source": [
        "#test the model with the data\n",
        "y_pred=log_reg.predict(X_train)\n",
        "\n",
        "#calculate the accuracy\n",
        "log_reg_accuracy = accuracy_score(y_train, y_pred)\n",
        "print('Accuracy: ', log_reg_accuracy,'\\n')\n",
        "\n",
        "#calculate the F1 score\n",
        "f1_Score = get_F1(log_reg,X_train,y_train)\n",
        "pd.DataFrame(f1_Score, index=df.Emotion.unique(), columns=['F1 score'])"
      ],
      "metadata": {
        "colab": {
          "base_uri": "https://localhost:8080/",
          "height": 241
        },
        "id": "4goJ4v-8xLeM",
        "outputId": "7afb4f0d-f5e1-4429-a2ea-5ad7d99863be"
      },
      "execution_count": 77,
      "outputs": [
        {
          "output_type": "stream",
          "name": "stdout",
          "text": [
            "Accuracy:  0.8203581526861451 \n",
            "\n"
          ]
        },
        {
          "output_type": "execute_result",
          "data": {
            "text/plain": [
              "         F1 score\n",
              "Happy    0.765558\n",
              "Sadness  0.783862\n",
              "Anger    0.873914\n",
              "Love     0.724891\n",
              "Fear     0.842230"
            ],
            "text/html": [
              "\n",
              "  <div id=\"df-8923b91b-607c-4cc1-9c40-6f26d1ee8acf\" class=\"colab-df-container\">\n",
              "    <div>\n",
              "<style scoped>\n",
              "    .dataframe tbody tr th:only-of-type {\n",
              "        vertical-align: middle;\n",
              "    }\n",
              "\n",
              "    .dataframe tbody tr th {\n",
              "        vertical-align: top;\n",
              "    }\n",
              "\n",
              "    .dataframe thead th {\n",
              "        text-align: right;\n",
              "    }\n",
              "</style>\n",
              "<table border=\"1\" class=\"dataframe\">\n",
              "  <thead>\n",
              "    <tr style=\"text-align: right;\">\n",
              "      <th></th>\n",
              "      <th>F1 score</th>\n",
              "    </tr>\n",
              "  </thead>\n",
              "  <tbody>\n",
              "    <tr>\n",
              "      <th>Happy</th>\n",
              "      <td>0.765558</td>\n",
              "    </tr>\n",
              "    <tr>\n",
              "      <th>Sadness</th>\n",
              "      <td>0.783862</td>\n",
              "    </tr>\n",
              "    <tr>\n",
              "      <th>Anger</th>\n",
              "      <td>0.873914</td>\n",
              "    </tr>\n",
              "    <tr>\n",
              "      <th>Love</th>\n",
              "      <td>0.724891</td>\n",
              "    </tr>\n",
              "    <tr>\n",
              "      <th>Fear</th>\n",
              "      <td>0.842230</td>\n",
              "    </tr>\n",
              "  </tbody>\n",
              "</table>\n",
              "</div>\n",
              "    <div class=\"colab-df-buttons\">\n",
              "\n",
              "  <div class=\"colab-df-container\">\n",
              "    <button class=\"colab-df-convert\" onclick=\"convertToInteractive('df-8923b91b-607c-4cc1-9c40-6f26d1ee8acf')\"\n",
              "            title=\"Convert this dataframe to an interactive table.\"\n",
              "            style=\"display:none;\">\n",
              "\n",
              "  <svg xmlns=\"http://www.w3.org/2000/svg\" height=\"24px\" viewBox=\"0 -960 960 960\">\n",
              "    <path d=\"M120-120v-720h720v720H120Zm60-500h600v-160H180v160Zm220 220h160v-160H400v160Zm0 220h160v-160H400v160ZM180-400h160v-160H180v160Zm440 0h160v-160H620v160ZM180-180h160v-160H180v160Zm440 0h160v-160H620v160Z\"/>\n",
              "  </svg>\n",
              "    </button>\n",
              "\n",
              "  <style>\n",
              "    .colab-df-container {\n",
              "      display:flex;\n",
              "      gap: 12px;\n",
              "    }\n",
              "\n",
              "    .colab-df-convert {\n",
              "      background-color: #E8F0FE;\n",
              "      border: none;\n",
              "      border-radius: 50%;\n",
              "      cursor: pointer;\n",
              "      display: none;\n",
              "      fill: #1967D2;\n",
              "      height: 32px;\n",
              "      padding: 0 0 0 0;\n",
              "      width: 32px;\n",
              "    }\n",
              "\n",
              "    .colab-df-convert:hover {\n",
              "      background-color: #E2EBFA;\n",
              "      box-shadow: 0px 1px 2px rgba(60, 64, 67, 0.3), 0px 1px 3px 1px rgba(60, 64, 67, 0.15);\n",
              "      fill: #174EA6;\n",
              "    }\n",
              "\n",
              "    .colab-df-buttons div {\n",
              "      margin-bottom: 4px;\n",
              "    }\n",
              "\n",
              "    [theme=dark] .colab-df-convert {\n",
              "      background-color: #3B4455;\n",
              "      fill: #D2E3FC;\n",
              "    }\n",
              "\n",
              "    [theme=dark] .colab-df-convert:hover {\n",
              "      background-color: #434B5C;\n",
              "      box-shadow: 0px 1px 3px 1px rgba(0, 0, 0, 0.15);\n",
              "      filter: drop-shadow(0px 1px 2px rgba(0, 0, 0, 0.3));\n",
              "      fill: #FFFFFF;\n",
              "    }\n",
              "  </style>\n",
              "\n",
              "    <script>\n",
              "      const buttonEl =\n",
              "        document.querySelector('#df-8923b91b-607c-4cc1-9c40-6f26d1ee8acf button.colab-df-convert');\n",
              "      buttonEl.style.display =\n",
              "        google.colab.kernel.accessAllowed ? 'block' : 'none';\n",
              "\n",
              "      async function convertToInteractive(key) {\n",
              "        const element = document.querySelector('#df-8923b91b-607c-4cc1-9c40-6f26d1ee8acf');\n",
              "        const dataTable =\n",
              "          await google.colab.kernel.invokeFunction('convertToInteractive',\n",
              "                                                    [key], {});\n",
              "        if (!dataTable) return;\n",
              "\n",
              "        const docLinkHtml = 'Like what you see? Visit the ' +\n",
              "          '<a target=\"_blank\" href=https://colab.research.google.com/notebooks/data_table.ipynb>data table notebook</a>'\n",
              "          + ' to learn more about interactive tables.';\n",
              "        element.innerHTML = '';\n",
              "        dataTable['output_type'] = 'display_data';\n",
              "        await google.colab.output.renderOutput(dataTable, element);\n",
              "        const docLink = document.createElement('div');\n",
              "        docLink.innerHTML = docLinkHtml;\n",
              "        element.appendChild(docLink);\n",
              "      }\n",
              "    </script>\n",
              "  </div>\n",
              "\n",
              "\n",
              "<div id=\"df-3ae441ea-b523-464b-8d42-eef628d351fd\">\n",
              "  <button class=\"colab-df-quickchart\" onclick=\"quickchart('df-3ae441ea-b523-464b-8d42-eef628d351fd')\"\n",
              "            title=\"Suggest charts\"\n",
              "            style=\"display:none;\">\n",
              "\n",
              "<svg xmlns=\"http://www.w3.org/2000/svg\" height=\"24px\"viewBox=\"0 0 24 24\"\n",
              "     width=\"24px\">\n",
              "    <g>\n",
              "        <path d=\"M19 3H5c-1.1 0-2 .9-2 2v14c0 1.1.9 2 2 2h14c1.1 0 2-.9 2-2V5c0-1.1-.9-2-2-2zM9 17H7v-7h2v7zm4 0h-2V7h2v10zm4 0h-2v-4h2v4z\"/>\n",
              "    </g>\n",
              "</svg>\n",
              "  </button>\n",
              "\n",
              "<style>\n",
              "  .colab-df-quickchart {\n",
              "      --bg-color: #E8F0FE;\n",
              "      --fill-color: #1967D2;\n",
              "      --hover-bg-color: #E2EBFA;\n",
              "      --hover-fill-color: #174EA6;\n",
              "      --disabled-fill-color: #AAA;\n",
              "      --disabled-bg-color: #DDD;\n",
              "  }\n",
              "\n",
              "  [theme=dark] .colab-df-quickchart {\n",
              "      --bg-color: #3B4455;\n",
              "      --fill-color: #D2E3FC;\n",
              "      --hover-bg-color: #434B5C;\n",
              "      --hover-fill-color: #FFFFFF;\n",
              "      --disabled-bg-color: #3B4455;\n",
              "      --disabled-fill-color: #666;\n",
              "  }\n",
              "\n",
              "  .colab-df-quickchart {\n",
              "    background-color: var(--bg-color);\n",
              "    border: none;\n",
              "    border-radius: 50%;\n",
              "    cursor: pointer;\n",
              "    display: none;\n",
              "    fill: var(--fill-color);\n",
              "    height: 32px;\n",
              "    padding: 0;\n",
              "    width: 32px;\n",
              "  }\n",
              "\n",
              "  .colab-df-quickchart:hover {\n",
              "    background-color: var(--hover-bg-color);\n",
              "    box-shadow: 0 1px 2px rgba(60, 64, 67, 0.3), 0 1px 3px 1px rgba(60, 64, 67, 0.15);\n",
              "    fill: var(--button-hover-fill-color);\n",
              "  }\n",
              "\n",
              "  .colab-df-quickchart-complete:disabled,\n",
              "  .colab-df-quickchart-complete:disabled:hover {\n",
              "    background-color: var(--disabled-bg-color);\n",
              "    fill: var(--disabled-fill-color);\n",
              "    box-shadow: none;\n",
              "  }\n",
              "\n",
              "  .colab-df-spinner {\n",
              "    border: 2px solid var(--fill-color);\n",
              "    border-color: transparent;\n",
              "    border-bottom-color: var(--fill-color);\n",
              "    animation:\n",
              "      spin 1s steps(1) infinite;\n",
              "  }\n",
              "\n",
              "  @keyframes spin {\n",
              "    0% {\n",
              "      border-color: transparent;\n",
              "      border-bottom-color: var(--fill-color);\n",
              "      border-left-color: var(--fill-color);\n",
              "    }\n",
              "    20% {\n",
              "      border-color: transparent;\n",
              "      border-left-color: var(--fill-color);\n",
              "      border-top-color: var(--fill-color);\n",
              "    }\n",
              "    30% {\n",
              "      border-color: transparent;\n",
              "      border-left-color: var(--fill-color);\n",
              "      border-top-color: var(--fill-color);\n",
              "      border-right-color: var(--fill-color);\n",
              "    }\n",
              "    40% {\n",
              "      border-color: transparent;\n",
              "      border-right-color: var(--fill-color);\n",
              "      border-top-color: var(--fill-color);\n",
              "    }\n",
              "    60% {\n",
              "      border-color: transparent;\n",
              "      border-right-color: var(--fill-color);\n",
              "    }\n",
              "    80% {\n",
              "      border-color: transparent;\n",
              "      border-right-color: var(--fill-color);\n",
              "      border-bottom-color: var(--fill-color);\n",
              "    }\n",
              "    90% {\n",
              "      border-color: transparent;\n",
              "      border-bottom-color: var(--fill-color);\n",
              "    }\n",
              "  }\n",
              "</style>\n",
              "\n",
              "  <script>\n",
              "    async function quickchart(key) {\n",
              "      const quickchartButtonEl =\n",
              "        document.querySelector('#' + key + ' button');\n",
              "      quickchartButtonEl.disabled = true;  // To prevent multiple clicks.\n",
              "      quickchartButtonEl.classList.add('colab-df-spinner');\n",
              "      try {\n",
              "        const charts = await google.colab.kernel.invokeFunction(\n",
              "            'suggestCharts', [key], {});\n",
              "      } catch (error) {\n",
              "        console.error('Error during call to suggestCharts:', error);\n",
              "      }\n",
              "      quickchartButtonEl.classList.remove('colab-df-spinner');\n",
              "      quickchartButtonEl.classList.add('colab-df-quickchart-complete');\n",
              "    }\n",
              "    (() => {\n",
              "      let quickchartButtonEl =\n",
              "        document.querySelector('#df-3ae441ea-b523-464b-8d42-eef628d351fd button');\n",
              "      quickchartButtonEl.style.display =\n",
              "        google.colab.kernel.accessAllowed ? 'block' : 'none';\n",
              "    })();\n",
              "  </script>\n",
              "</div>\n",
              "    </div>\n",
              "  </div>\n"
            ],
            "application/vnd.google.colaboratory.intrinsic+json": {
              "type": "dataframe",
              "summary": "{\n  \"name\": \"pd\",\n  \"rows\": 5,\n  \"fields\": [\n    {\n      \"column\": \"F1 score\",\n      \"properties\": {\n        \"dtype\": \"number\",\n        \"std\": 0.05982584649122468,\n        \"min\": 0.7248908296943232,\n        \"max\": 0.8739141879441958,\n        \"num_unique_values\": 5,\n        \"samples\": [\n          0.7838616714697405,\n          0.8422301304863582,\n          0.8739141879441958\n        ],\n        \"semantic_type\": \"\",\n        \"description\": \"\"\n      }\n    }\n  ]\n}"
            }
          },
          "metadata": {},
          "execution_count": 77
        }
      ]
    },
    {
      "cell_type": "code",
      "source": [
        "##Classification Report\n",
        "print(classification_report(y_train, y_pred))"
      ],
      "metadata": {
        "colab": {
          "base_uri": "https://localhost:8080/"
        },
        "id": "Qrd0lpeixcv3",
        "outputId": "ef783f05-9fa2-465c-fad1-c61077228ef9"
      },
      "execution_count": 78,
      "outputs": [
        {
          "output_type": "stream",
          "name": "stdout",
          "text": [
            "              precision    recall  f1-score   support\n",
            "\n",
            "       Anger       0.90      0.67      0.77       675\n",
            "        Fear       0.81      0.76      0.78       892\n",
            "       Happy       0.81      0.95      0.87      1753\n",
            "        Love       0.87      0.62      0.72       800\n",
            "     Sadness       0.79      0.90      0.84      1185\n",
            "\n",
            "    accuracy                           0.82      5305\n",
            "   macro avg       0.84      0.78      0.80      5305\n",
            "weighted avg       0.83      0.82      0.82      5305\n",
            "\n"
          ]
        }
      ]
    },
    {
      "cell_type": "markdown",
      "source": [
        "# **SVM**"
      ],
      "metadata": {
        "id": "Gu4X8rStFDdz"
      }
    },
    {
      "cell_type": "code",
      "source": [
        "#Train the model with the training data\n",
        "SVM = train_model(SVC(random_state = 0), X_train, y_train)\n",
        "\n",
        "#test the model with the test data\n",
        "y_pred=SVM.predict(X_train)\n",
        "\n",
        "#calculate the accuracy\n",
        "SVM_accuracy = accuracy_score(y_train, y_pred)\n",
        "print('Accuracy: ', SVM_accuracy,'\\n')\n",
        "\n",
        "#calculate the F1 score\n",
        "f1_Score = get_F1(SVM,X_train,y_train)\n",
        "pd.DataFrame(f1_Score, index=df.Emotion.unique(), columns=['F1 score'])"
      ],
      "metadata": {
        "colab": {
          "base_uri": "https://localhost:8080/",
          "height": 241
        },
        "id": "7-dK0jMdxn0T",
        "outputId": "0b9b0e61-9f6b-41ef-acbc-45711af58546"
      },
      "execution_count": 79,
      "outputs": [
        {
          "output_type": "stream",
          "name": "stdout",
          "text": [
            "Accuracy:  0.9730442978322338 \n",
            "\n"
          ]
        },
        {
          "output_type": "execute_result",
          "data": {
            "text/plain": [
              "         F1 score\n",
              "Happy    0.965257\n",
              "Sadness  0.976953\n",
              "Anger    0.980248\n",
              "Love     0.957746\n",
              "Fear     0.973761"
            ],
            "text/html": [
              "\n",
              "  <div id=\"df-bcc9469c-9a58-4c5d-ade1-d1eab06e17f1\" class=\"colab-df-container\">\n",
              "    <div>\n",
              "<style scoped>\n",
              "    .dataframe tbody tr th:only-of-type {\n",
              "        vertical-align: middle;\n",
              "    }\n",
              "\n",
              "    .dataframe tbody tr th {\n",
              "        vertical-align: top;\n",
              "    }\n",
              "\n",
              "    .dataframe thead th {\n",
              "        text-align: right;\n",
              "    }\n",
              "</style>\n",
              "<table border=\"1\" class=\"dataframe\">\n",
              "  <thead>\n",
              "    <tr style=\"text-align: right;\">\n",
              "      <th></th>\n",
              "      <th>F1 score</th>\n",
              "    </tr>\n",
              "  </thead>\n",
              "  <tbody>\n",
              "    <tr>\n",
              "      <th>Happy</th>\n",
              "      <td>0.965257</td>\n",
              "    </tr>\n",
              "    <tr>\n",
              "      <th>Sadness</th>\n",
              "      <td>0.976953</td>\n",
              "    </tr>\n",
              "    <tr>\n",
              "      <th>Anger</th>\n",
              "      <td>0.980248</td>\n",
              "    </tr>\n",
              "    <tr>\n",
              "      <th>Love</th>\n",
              "      <td>0.957746</td>\n",
              "    </tr>\n",
              "    <tr>\n",
              "      <th>Fear</th>\n",
              "      <td>0.973761</td>\n",
              "    </tr>\n",
              "  </tbody>\n",
              "</table>\n",
              "</div>\n",
              "    <div class=\"colab-df-buttons\">\n",
              "\n",
              "  <div class=\"colab-df-container\">\n",
              "    <button class=\"colab-df-convert\" onclick=\"convertToInteractive('df-bcc9469c-9a58-4c5d-ade1-d1eab06e17f1')\"\n",
              "            title=\"Convert this dataframe to an interactive table.\"\n",
              "            style=\"display:none;\">\n",
              "\n",
              "  <svg xmlns=\"http://www.w3.org/2000/svg\" height=\"24px\" viewBox=\"0 -960 960 960\">\n",
              "    <path d=\"M120-120v-720h720v720H120Zm60-500h600v-160H180v160Zm220 220h160v-160H400v160Zm0 220h160v-160H400v160ZM180-400h160v-160H180v160Zm440 0h160v-160H620v160ZM180-180h160v-160H180v160Zm440 0h160v-160H620v160Z\"/>\n",
              "  </svg>\n",
              "    </button>\n",
              "\n",
              "  <style>\n",
              "    .colab-df-container {\n",
              "      display:flex;\n",
              "      gap: 12px;\n",
              "    }\n",
              "\n",
              "    .colab-df-convert {\n",
              "      background-color: #E8F0FE;\n",
              "      border: none;\n",
              "      border-radius: 50%;\n",
              "      cursor: pointer;\n",
              "      display: none;\n",
              "      fill: #1967D2;\n",
              "      height: 32px;\n",
              "      padding: 0 0 0 0;\n",
              "      width: 32px;\n",
              "    }\n",
              "\n",
              "    .colab-df-convert:hover {\n",
              "      background-color: #E2EBFA;\n",
              "      box-shadow: 0px 1px 2px rgba(60, 64, 67, 0.3), 0px 1px 3px 1px rgba(60, 64, 67, 0.15);\n",
              "      fill: #174EA6;\n",
              "    }\n",
              "\n",
              "    .colab-df-buttons div {\n",
              "      margin-bottom: 4px;\n",
              "    }\n",
              "\n",
              "    [theme=dark] .colab-df-convert {\n",
              "      background-color: #3B4455;\n",
              "      fill: #D2E3FC;\n",
              "    }\n",
              "\n",
              "    [theme=dark] .colab-df-convert:hover {\n",
              "      background-color: #434B5C;\n",
              "      box-shadow: 0px 1px 3px 1px rgba(0, 0, 0, 0.15);\n",
              "      filter: drop-shadow(0px 1px 2px rgba(0, 0, 0, 0.3));\n",
              "      fill: #FFFFFF;\n",
              "    }\n",
              "  </style>\n",
              "\n",
              "    <script>\n",
              "      const buttonEl =\n",
              "        document.querySelector('#df-bcc9469c-9a58-4c5d-ade1-d1eab06e17f1 button.colab-df-convert');\n",
              "      buttonEl.style.display =\n",
              "        google.colab.kernel.accessAllowed ? 'block' : 'none';\n",
              "\n",
              "      async function convertToInteractive(key) {\n",
              "        const element = document.querySelector('#df-bcc9469c-9a58-4c5d-ade1-d1eab06e17f1');\n",
              "        const dataTable =\n",
              "          await google.colab.kernel.invokeFunction('convertToInteractive',\n",
              "                                                    [key], {});\n",
              "        if (!dataTable) return;\n",
              "\n",
              "        const docLinkHtml = 'Like what you see? Visit the ' +\n",
              "          '<a target=\"_blank\" href=https://colab.research.google.com/notebooks/data_table.ipynb>data table notebook</a>'\n",
              "          + ' to learn more about interactive tables.';\n",
              "        element.innerHTML = '';\n",
              "        dataTable['output_type'] = 'display_data';\n",
              "        await google.colab.output.renderOutput(dataTable, element);\n",
              "        const docLink = document.createElement('div');\n",
              "        docLink.innerHTML = docLinkHtml;\n",
              "        element.appendChild(docLink);\n",
              "      }\n",
              "    </script>\n",
              "  </div>\n",
              "\n",
              "\n",
              "<div id=\"df-16be8862-1604-4544-b42f-f8e469dad436\">\n",
              "  <button class=\"colab-df-quickchart\" onclick=\"quickchart('df-16be8862-1604-4544-b42f-f8e469dad436')\"\n",
              "            title=\"Suggest charts\"\n",
              "            style=\"display:none;\">\n",
              "\n",
              "<svg xmlns=\"http://www.w3.org/2000/svg\" height=\"24px\"viewBox=\"0 0 24 24\"\n",
              "     width=\"24px\">\n",
              "    <g>\n",
              "        <path d=\"M19 3H5c-1.1 0-2 .9-2 2v14c0 1.1.9 2 2 2h14c1.1 0 2-.9 2-2V5c0-1.1-.9-2-2-2zM9 17H7v-7h2v7zm4 0h-2V7h2v10zm4 0h-2v-4h2v4z\"/>\n",
              "    </g>\n",
              "</svg>\n",
              "  </button>\n",
              "\n",
              "<style>\n",
              "  .colab-df-quickchart {\n",
              "      --bg-color: #E8F0FE;\n",
              "      --fill-color: #1967D2;\n",
              "      --hover-bg-color: #E2EBFA;\n",
              "      --hover-fill-color: #174EA6;\n",
              "      --disabled-fill-color: #AAA;\n",
              "      --disabled-bg-color: #DDD;\n",
              "  }\n",
              "\n",
              "  [theme=dark] .colab-df-quickchart {\n",
              "      --bg-color: #3B4455;\n",
              "      --fill-color: #D2E3FC;\n",
              "      --hover-bg-color: #434B5C;\n",
              "      --hover-fill-color: #FFFFFF;\n",
              "      --disabled-bg-color: #3B4455;\n",
              "      --disabled-fill-color: #666;\n",
              "  }\n",
              "\n",
              "  .colab-df-quickchart {\n",
              "    background-color: var(--bg-color);\n",
              "    border: none;\n",
              "    border-radius: 50%;\n",
              "    cursor: pointer;\n",
              "    display: none;\n",
              "    fill: var(--fill-color);\n",
              "    height: 32px;\n",
              "    padding: 0;\n",
              "    width: 32px;\n",
              "  }\n",
              "\n",
              "  .colab-df-quickchart:hover {\n",
              "    background-color: var(--hover-bg-color);\n",
              "    box-shadow: 0 1px 2px rgba(60, 64, 67, 0.3), 0 1px 3px 1px rgba(60, 64, 67, 0.15);\n",
              "    fill: var(--button-hover-fill-color);\n",
              "  }\n",
              "\n",
              "  .colab-df-quickchart-complete:disabled,\n",
              "  .colab-df-quickchart-complete:disabled:hover {\n",
              "    background-color: var(--disabled-bg-color);\n",
              "    fill: var(--disabled-fill-color);\n",
              "    box-shadow: none;\n",
              "  }\n",
              "\n",
              "  .colab-df-spinner {\n",
              "    border: 2px solid var(--fill-color);\n",
              "    border-color: transparent;\n",
              "    border-bottom-color: var(--fill-color);\n",
              "    animation:\n",
              "      spin 1s steps(1) infinite;\n",
              "  }\n",
              "\n",
              "  @keyframes spin {\n",
              "    0% {\n",
              "      border-color: transparent;\n",
              "      border-bottom-color: var(--fill-color);\n",
              "      border-left-color: var(--fill-color);\n",
              "    }\n",
              "    20% {\n",
              "      border-color: transparent;\n",
              "      border-left-color: var(--fill-color);\n",
              "      border-top-color: var(--fill-color);\n",
              "    }\n",
              "    30% {\n",
              "      border-color: transparent;\n",
              "      border-left-color: var(--fill-color);\n",
              "      border-top-color: var(--fill-color);\n",
              "      border-right-color: var(--fill-color);\n",
              "    }\n",
              "    40% {\n",
              "      border-color: transparent;\n",
              "      border-right-color: var(--fill-color);\n",
              "      border-top-color: var(--fill-color);\n",
              "    }\n",
              "    60% {\n",
              "      border-color: transparent;\n",
              "      border-right-color: var(--fill-color);\n",
              "    }\n",
              "    80% {\n",
              "      border-color: transparent;\n",
              "      border-right-color: var(--fill-color);\n",
              "      border-bottom-color: var(--fill-color);\n",
              "    }\n",
              "    90% {\n",
              "      border-color: transparent;\n",
              "      border-bottom-color: var(--fill-color);\n",
              "    }\n",
              "  }\n",
              "</style>\n",
              "\n",
              "  <script>\n",
              "    async function quickchart(key) {\n",
              "      const quickchartButtonEl =\n",
              "        document.querySelector('#' + key + ' button');\n",
              "      quickchartButtonEl.disabled = true;  // To prevent multiple clicks.\n",
              "      quickchartButtonEl.classList.add('colab-df-spinner');\n",
              "      try {\n",
              "        const charts = await google.colab.kernel.invokeFunction(\n",
              "            'suggestCharts', [key], {});\n",
              "      } catch (error) {\n",
              "        console.error('Error during call to suggestCharts:', error);\n",
              "      }\n",
              "      quickchartButtonEl.classList.remove('colab-df-spinner');\n",
              "      quickchartButtonEl.classList.add('colab-df-quickchart-complete');\n",
              "    }\n",
              "    (() => {\n",
              "      let quickchartButtonEl =\n",
              "        document.querySelector('#df-16be8862-1604-4544-b42f-f8e469dad436 button');\n",
              "      quickchartButtonEl.style.display =\n",
              "        google.colab.kernel.accessAllowed ? 'block' : 'none';\n",
              "    })();\n",
              "  </script>\n",
              "</div>\n",
              "    </div>\n",
              "  </div>\n"
            ],
            "application/vnd.google.colaboratory.intrinsic+json": {
              "type": "dataframe",
              "summary": "{\n  \"name\": \"pd\",\n  \"rows\": 5,\n  \"fields\": [\n    {\n      \"column\": \"F1 score\",\n      \"properties\": {\n        \"dtype\": \"number\",\n        \"std\": 0.009179086994893221,\n        \"min\": 0.9577464788732394,\n        \"max\": 0.9802483069977428,\n        \"num_unique_values\": 5,\n        \"samples\": [\n          0.9769533445756042,\n          0.9737609329446065,\n          0.9802483069977428\n        ],\n        \"semantic_type\": \"\",\n        \"description\": \"\"\n      }\n    }\n  ]\n}"
            }
          },
          "metadata": {},
          "execution_count": 79
        }
      ]
    },
    {
      "cell_type": "code",
      "source": [
        "print(classification_report(y_train, y_pred))"
      ],
      "metadata": {
        "colab": {
          "base_uri": "https://localhost:8080/"
        },
        "id": "3RwlIY_FzCiq",
        "outputId": "aa077ab6-4951-445b-a6b9-33d026e297c5"
      },
      "execution_count": 80,
      "outputs": [
        {
          "output_type": "stream",
          "name": "stdout",
          "text": [
            "              precision    recall  f1-score   support\n",
            "\n",
            "       Anger       0.98      0.95      0.97       675\n",
            "        Fear       0.98      0.97      0.98       892\n",
            "       Happy       0.97      0.99      0.98      1753\n",
            "        Love       0.98      0.94      0.96       800\n",
            "     Sadness       0.96      0.99      0.97      1185\n",
            "\n",
            "    accuracy                           0.97      5305\n",
            "   macro avg       0.98      0.97      0.97      5305\n",
            "weighted avg       0.97      0.97      0.97      5305\n",
            "\n"
          ]
        }
      ]
    },
    {
      "cell_type": "markdown",
      "source": [
        "# **Text Preprocessing**"
      ],
      "metadata": {
        "id": "XUIv1kiX0mNL"
      }
    },
    {
      "cell_type": "code",
      "source": [
        "#Splitting the Customer Review from the labels\n",
        "X_train = df['Customer Review']\n",
        "y_train = df['Emotion']\n",
        "\n",
        "X_test = df['Customer Review']\n",
        "y_test = df['Emotion']\n",
        "\n",
        "X_val = df['Customer Review']\n",
        "y_val = df['Emotion']"
      ],
      "metadata": {
        "id": "SfeGeOty0nF3"
      },
      "execution_count": 81,
      "outputs": []
    },
    {
      "cell_type": "code",
      "source": [
        "# Encode labels\n",
        "le = LabelEncoder()\n",
        "y_train = le.fit_transform(y_train)\n",
        "y_test = le.transform(y_test)\n",
        "y_val = le.transform(y_val)"
      ],
      "metadata": {
        "id": "KRjD1NIX07r7"
      },
      "execution_count": 82,
      "outputs": []
    },
    {
      "cell_type": "code",
      "source": [
        "#print the labels after encoding\n",
        "print(set(y_train))"
      ],
      "metadata": {
        "colab": {
          "base_uri": "https://localhost:8080/"
        },
        "id": "nFZfEER10_Ir",
        "outputId": "5340a8dc-651a-400a-bc06-bf2d1106fa00"
      },
      "execution_count": 83,
      "outputs": [
        {
          "output_type": "stream",
          "name": "stdout",
          "text": [
            "{0, 1, 2, 3, 4}\n"
          ]
        }
      ]
    },
    {
      "cell_type": "code",
      "source": [
        "#Convert the class vector (integers) to binary class matrix\n",
        "y_train = to_categorical(y_train)\n",
        "y_test = to_categorical(y_test)\n",
        "y_val = to_categorical(y_val)"
      ],
      "metadata": {
        "id": "TmAlhkBV1CmV"
      },
      "execution_count": 84,
      "outputs": []
    },
    {
      "cell_type": "code",
      "source": [
        "print(y_train)"
      ],
      "metadata": {
        "colab": {
          "base_uri": "https://localhost:8080/"
        },
        "id": "DoQGRn1-1Epu",
        "outputId": "18928146-ec6c-41d9-854a-df73fe4cac8e"
      },
      "execution_count": 85,
      "outputs": [
        {
          "output_type": "stream",
          "name": "stdout",
          "text": [
            "[[0. 0. 1. 0. 0.]\n",
            " [0. 0. 1. 0. 0.]\n",
            " [0. 0. 1. 0. 0.]\n",
            " ...\n",
            " [0. 0. 1. 0. 0.]\n",
            " [0. 0. 1. 0. 0.]\n",
            " [0. 0. 0. 1. 0.]]\n"
          ]
        }
      ]
    },
    {
      "cell_type": "markdown",
      "source": [
        "# **Tokenizing**"
      ],
      "metadata": {
        "id": "3DhKmw610dD7"
      }
    },
    {
      "cell_type": "code",
      "source": [
        "# Tokenize words\n",
        "tokenizer = Tokenizer(oov_token='UNK')\n",
        "tokenizer.fit_on_texts(pd.concat([X_train, X_test], axis=0))\n",
        "tokenizer.document_count"
      ],
      "metadata": {
        "colab": {
          "base_uri": "https://localhost:8080/"
        },
        "id": "zZF0iB5g0SwK",
        "outputId": "18205b38-4eb4-48a0-e0c6-1f7899a4fa2e"
      },
      "execution_count": 86,
      "outputs": [
        {
          "output_type": "execute_result",
          "data": {
            "text/plain": [
              "10610"
            ]
          },
          "metadata": {},
          "execution_count": 86
        }
      ]
    },
    {
      "cell_type": "code",
      "source": [
        "# Add 'towards' to the tokenizer's word_index with a new index\n",
        "tokenizer.word_index['towards'] = len(tokenizer.word_index) + 1"
      ],
      "metadata": {
        "id": "Vejx0b_E1PVB"
      },
      "execution_count": 87,
      "outputs": []
    },
    {
      "cell_type": "code",
      "source": [
        "#converting a single sentence to list of indexes\n",
        "tokenizer.texts_to_sequences(X_train[0].split())"
      ],
      "metadata": {
        "colab": {
          "base_uri": "https://localhost:8080/"
        },
        "id": "TbmcR8AV1qII",
        "outputId": "5b1aa490-0c79-4b2b-f60c-fb113cb6092b"
      },
      "execution_count": 88,
      "outputs": [
        {
          "output_type": "execute_result",
          "data": {
            "text/plain": [
              "[[293],\n",
              " [61],\n",
              " [16],\n",
              " [28],\n",
              " [74],\n",
              " [32],\n",
              " [34],\n",
              " [12],\n",
              " [2],\n",
              " [92],\n",
              " [20],\n",
              " [2],\n",
              " [174],\n",
              " [357]]"
            ]
          },
          "metadata": {},
          "execution_count": 88
        }
      ]
    },
    {
      "cell_type": "code",
      "source": [
        "#convert the list of indexes into a matrix of ones and zeros (BOW)\n",
        "tokenizer.texts_to_matrix(X_train[0].split())"
      ],
      "metadata": {
        "colab": {
          "base_uri": "https://localhost:8080/"
        },
        "id": "GfKxa0Ck1xR8",
        "outputId": "fdcf6487-57fb-4472-eebb-dcb8327fa758"
      },
      "execution_count": 89,
      "outputs": [
        {
          "output_type": "execute_result",
          "data": {
            "text/plain": [
              "array([[0., 0., 0., ..., 0., 0., 0.],\n",
              "       [0., 0., 0., ..., 0., 0., 0.],\n",
              "       [0., 0., 0., ..., 0., 0., 0.],\n",
              "       ...,\n",
              "       [0., 0., 1., ..., 0., 0., 0.],\n",
              "       [0., 0., 0., ..., 0., 0., 0.],\n",
              "       [0., 0., 0., ..., 0., 0., 0.]])"
            ]
          },
          "metadata": {},
          "execution_count": 89
        }
      ]
    },
    {
      "cell_type": "code",
      "source": [
        "#the sentence contains three words and the size of the vocabulary is 9012\n",
        "tokenizer.texts_to_matrix(X_train[0].split()).shape"
      ],
      "metadata": {
        "colab": {
          "base_uri": "https://localhost:8080/"
        },
        "id": "-RFy5nbh1zVT",
        "outputId": "f13a228a-1076-4522-a28d-843620b5e8cd"
      },
      "execution_count": 90,
      "outputs": [
        {
          "output_type": "execute_result",
          "data": {
            "text/plain": [
              "(14, 9012)"
            ]
          },
          "metadata": {},
          "execution_count": 90
        }
      ]
    },
    {
      "cell_type": "code",
      "source": [
        "sequences_train = tokenizer.texts_to_sequences(X_train)\n",
        "sequences_test = tokenizer.texts_to_sequences(X_test)\n",
        "sequences_val = tokenizer.texts_to_sequences(X_val)"
      ],
      "metadata": {
        "id": "3hQTm2fs11OR"
      },
      "execution_count": 91,
      "outputs": []
    },
    {
      "cell_type": "code",
      "source": [
        "#print the sentence after converting them to indexes\n",
        "#sequences_train"
      ],
      "metadata": {
        "id": "xe54ZTSl13sQ"
      },
      "execution_count": 92,
      "outputs": []
    },
    {
      "cell_type": "markdown",
      "source": [
        "# **Padding**"
      ],
      "metadata": {
        "id": "YH0dvPBx17nU"
      }
    },
    {
      "cell_type": "code",
      "source": [
        "df.shape"
      ],
      "metadata": {
        "colab": {
          "base_uri": "https://localhost:8080/"
        },
        "id": "Rxfz459Q16ST",
        "outputId": "3ff19225-c745-4343-91dd-95ed815d2c54"
      },
      "execution_count": 93,
      "outputs": [
        {
          "output_type": "execute_result",
          "data": {
            "text/plain": [
              "(5305, 11)"
            ]
          },
          "metadata": {},
          "execution_count": 93
        }
      ]
    },
    {
      "cell_type": "code",
      "source": [
        "maxlen = max([len(t) for t in df['Customer Review']])\n",
        "maxlen"
      ],
      "metadata": {
        "colab": {
          "base_uri": "https://localhost:8080/"
        },
        "id": "vBa2tXyB2D97",
        "outputId": "f64c9745-e26e-4207-ca61-af7588e69c0a"
      },
      "execution_count": 94,
      "outputs": [
        {
          "output_type": "execute_result",
          "data": {
            "text/plain": [
              "1058"
            ]
          },
          "metadata": {},
          "execution_count": 94
        }
      ]
    },
    {
      "cell_type": "code",
      "source": [
        "X_train = pad_sequences(sequences_train, maxlen=229, truncating='pre')\n",
        "X_test = pad_sequences(sequences_test, maxlen=229, truncating='pre')\n",
        "X_val = pad_sequences(sequences_val, maxlen=229, truncating='pre')\n",
        "\n",
        "vocabSize = len(tokenizer.index_word) + 1\n",
        "print(f\"Vocabulary size = {vocabSize}\")"
      ],
      "metadata": {
        "colab": {
          "base_uri": "https://localhost:8080/"
        },
        "id": "vhAOy50W2JKc",
        "outputId": "f79200e4-4bc5-49bb-ee29-4b5c48a49c31"
      },
      "execution_count": 95,
      "outputs": [
        {
          "output_type": "stream",
          "name": "stdout",
          "text": [
            "Vocabulary size = 9011\n"
          ]
        }
      ]
    },
    {
      "cell_type": "code",
      "source": [
        "#before\n",
        "sequences_train[0]"
      ],
      "metadata": {
        "colab": {
          "base_uri": "https://localhost:8080/"
        },
        "id": "v_AyKKhq2Z3i",
        "outputId": "7a9ed1ad-9d27-4ee9-c977-7dabfccaaec2"
      },
      "execution_count": 96,
      "outputs": [
        {
          "output_type": "execute_result",
          "data": {
            "text/plain": [
              "[293, 61, 16, 28, 74, 32, 34, 12, 2, 92, 20, 2, 174, 357]"
            ]
          },
          "metadata": {},
          "execution_count": 96
        }
      ]
    },
    {
      "cell_type": "code",
      "source": [
        "#after\n",
        "X_train[0]"
      ],
      "metadata": {
        "colab": {
          "base_uri": "https://localhost:8080/"
        },
        "id": "oD9fsVsD2bXq",
        "outputId": "d9aa880d-e76d-4cd3-97a2-bfc1503e584c"
      },
      "execution_count": 97,
      "outputs": [
        {
          "output_type": "execute_result",
          "data": {
            "text/plain": [
              "array([  0,   0,   0,   0,   0,   0,   0,   0,   0,   0,   0,   0,   0,\n",
              "         0,   0,   0,   0,   0,   0,   0,   0,   0,   0,   0,   0,   0,\n",
              "         0,   0,   0,   0,   0,   0,   0,   0,   0,   0,   0,   0,   0,\n",
              "         0,   0,   0,   0,   0,   0,   0,   0,   0,   0,   0,   0,   0,\n",
              "         0,   0,   0,   0,   0,   0,   0,   0,   0,   0,   0,   0,   0,\n",
              "         0,   0,   0,   0,   0,   0,   0,   0,   0,   0,   0,   0,   0,\n",
              "         0,   0,   0,   0,   0,   0,   0,   0,   0,   0,   0,   0,   0,\n",
              "         0,   0,   0,   0,   0,   0,   0,   0,   0,   0,   0,   0,   0,\n",
              "         0,   0,   0,   0,   0,   0,   0,   0,   0,   0,   0,   0,   0,\n",
              "         0,   0,   0,   0,   0,   0,   0,   0,   0,   0,   0,   0,   0,\n",
              "         0,   0,   0,   0,   0,   0,   0,   0,   0,   0,   0,   0,   0,\n",
              "         0,   0,   0,   0,   0,   0,   0,   0,   0,   0,   0,   0,   0,\n",
              "         0,   0,   0,   0,   0,   0,   0,   0,   0,   0,   0,   0,   0,\n",
              "         0,   0,   0,   0,   0,   0,   0,   0,   0,   0,   0,   0,   0,\n",
              "         0,   0,   0,   0,   0,   0,   0,   0,   0,   0,   0,   0,   0,\n",
              "         0,   0,   0,   0,   0,   0,   0,   0,   0,   0,   0,   0,   0,\n",
              "         0,   0,   0,   0,   0,   0,   0, 293,  61,  16,  28,  74,  32,\n",
              "        34,  12,   2,  92,  20,   2, 174, 357], dtype=int32)"
            ]
          },
          "metadata": {},
          "execution_count": 97
        }
      ]
    },
    {
      "cell_type": "markdown",
      "source": [
        "# **Model LTSM**"
      ],
      "metadata": {
        "id": "KokwrAmW3Hoc"
      }
    },
    {
      "cell_type": "code",
      "source": [
        "from tensorflow.keras.layers import BatchNormalization, SpatialDropout1D\n",
        "\n",
        "model = Sequential()\n",
        "model.add(Embedding(vocabSize, 200, input_length=X_train.shape[1], trainable=True))\n",
        "model.add(SpatialDropout1D(0.2))\n",
        "model.add(Bidirectional(LSTM(128, dropout=0.2, recurrent_dropout=0.2, return_sequences=True)))\n",
        "model.add(BatchNormalization())\n",
        "model.add(Bidirectional(LSTM(64, dropout=0.2, recurrent_dropout=0.2, return_sequences=True)))\n",
        "model.add(BatchNormalization())\n",
        "model.add(Bidirectional(LSTM(32, dropout=0.2, recurrent_dropout=0.2)))\n",
        "model.add(Dense(5, activation='softmax'))\n",
        "\n",
        "model.summary()"
      ],
      "metadata": {
        "colab": {
          "base_uri": "https://localhost:8080/"
        },
        "id": "bzJxcZwG3HPg",
        "outputId": "b2c0f2c7-3097-4891-b709-961c10839705"
      },
      "execution_count": 98,
      "outputs": [
        {
          "output_type": "stream",
          "name": "stderr",
          "text": [
            "WARNING:tensorflow:Layer lstm will not use cuDNN kernels since it doesn't meet the criteria. It will use a generic GPU kernel as fallback when running on GPU.\n",
            "WARNING:tensorflow:Layer lstm will not use cuDNN kernels since it doesn't meet the criteria. It will use a generic GPU kernel as fallback when running on GPU.\n",
            "WARNING:tensorflow:Layer lstm will not use cuDNN kernels since it doesn't meet the criteria. It will use a generic GPU kernel as fallback when running on GPU.\n",
            "WARNING:tensorflow:Layer lstm_1 will not use cuDNN kernels since it doesn't meet the criteria. It will use a generic GPU kernel as fallback when running on GPU.\n",
            "WARNING:tensorflow:Layer lstm_1 will not use cuDNN kernels since it doesn't meet the criteria. It will use a generic GPU kernel as fallback when running on GPU.\n",
            "WARNING:tensorflow:Layer lstm_1 will not use cuDNN kernels since it doesn't meet the criteria. It will use a generic GPU kernel as fallback when running on GPU.\n",
            "WARNING:tensorflow:Layer lstm_2 will not use cuDNN kernels since it doesn't meet the criteria. It will use a generic GPU kernel as fallback when running on GPU.\n",
            "WARNING:tensorflow:Layer lstm_2 will not use cuDNN kernels since it doesn't meet the criteria. It will use a generic GPU kernel as fallback when running on GPU.\n",
            "WARNING:tensorflow:Layer lstm_2 will not use cuDNN kernels since it doesn't meet the criteria. It will use a generic GPU kernel as fallback when running on GPU.\n"
          ]
        },
        {
          "output_type": "stream",
          "name": "stdout",
          "text": [
            "Model: \"sequential\"\n",
            "_________________________________________________________________\n",
            " Layer (type)                Output Shape              Param #   \n",
            "=================================================================\n",
            " embedding (Embedding)       (None, 229, 200)          1802200   \n",
            "                                                                 \n",
            " spatial_dropout1d (Spatial  (None, 229, 200)          0         \n",
            " Dropout1D)                                                      \n",
            "                                                                 \n",
            " bidirectional (Bidirection  (None, 229, 256)          336896    \n",
            " al)                                                             \n",
            "                                                                 \n",
            " batch_normalization (Batch  (None, 229, 256)          1024      \n",
            " Normalization)                                                  \n",
            "                                                                 \n",
            " bidirectional_1 (Bidirecti  (None, 229, 128)          164352    \n",
            " onal)                                                           \n",
            "                                                                 \n",
            " batch_normalization_1 (Bat  (None, 229, 128)          512       \n",
            " chNormalization)                                                \n",
            "                                                                 \n",
            " bidirectional_2 (Bidirecti  (None, 64)                41216     \n",
            " onal)                                                           \n",
            "                                                                 \n",
            " dense (Dense)               (None, 5)                 325       \n",
            "                                                                 \n",
            "=================================================================\n",
            "Total params: 2346525 (8.95 MB)\n",
            "Trainable params: 2345757 (8.95 MB)\n",
            "Non-trainable params: 768 (3.00 KB)\n",
            "_________________________________________________________________\n"
          ]
        }
      ]
    },
    {
      "cell_type": "code",
      "source": [
        "import tensorflow as tf\n"
      ],
      "metadata": {
        "id": "VqhYix6F36tM"
      },
      "execution_count": 99,
      "outputs": []
    },
    {
      "cell_type": "code",
      "source": [
        "tf.keras.utils.plot_model(model, show_shapes=True)"
      ],
      "metadata": {
        "colab": {
          "base_uri": "https://localhost:8080/",
          "height": 976
        },
        "id": "XNnma_h_3v5w",
        "outputId": "ba324c4a-11bf-468b-ac66-e586388a2d72"
      },
      "execution_count": 100,
      "outputs": [
        {
          "output_type": "execute_result",
          "data": {
            "image/png": "[encoded data removed]",
            "text/plain": [
              "<IPython.core.display.Image object>"
            ]
          },
          "metadata": {},
          "execution_count": 100
        }
      ]
    },
    {
      "cell_type": "code",
      "source": [
        "model.compile(optimizer='adam', loss='categorical_crossentropy', metrics=['accuracy'])"
      ],
      "metadata": {
        "id": "IQ-iOKV94LeF"
      },
      "execution_count": 101,
      "outputs": []
    },
    {
      "cell_type": "code",
      "source": [
        "from keras.callbacks import EarlyStopping, ReduceLROnPlateau\n",
        "\n",
        "class customCallback(tf.keras.callbacks.Callback):\n",
        "    def on_epoch_end(self, epoch, logs={}):\n",
        "        if logs.get('accuracy') > 0.98 and logs.get('val_accuracy') > 0.98:\n",
        "            print(\"\\nAkurasi pada data pelatihan dan data validasi mencapai nilai > 95%\")\n",
        "            self.model.stop_training = True\n",
        "\n",
        "early_stopping = EarlyStopping(\n",
        "    monitor='val_accuracy',\n",
        "    min_delta=0.00005,\n",
        "    patience=20,\n",
        "    verbose=1,\n",
        "    restore_best_weights=True,\n",
        ")\n",
        "\n",
        "lr_scheduler = ReduceLROnPlateau(\n",
        "    monitor='val_accuracy',\n",
        "    factor=0.2,\n",
        "    patience=5,\n",
        "    min_lr=1e-7,\n",
        "    verbose=1,\n",
        ")\n",
        "\n",
        "callbacks = [\n",
        "    early_stopping,\n",
        "    lr_scheduler,\n",
        "    customCallback(),\n",
        "]"
      ],
      "metadata": {
        "id": "Jq21sIem4OGi"
      },
      "execution_count": 102,
      "outputs": []
    },
    {
      "cell_type": "code",
      "source": [
        "# Fit model\n",
        "history = model.fit(X_train,\n",
        "                    y_train,\n",
        "                    validation_data=(X_val, y_val),\n",
        "                    verbose=1,\n",
        "                    batch_size=256,\n",
        "                    epochs=30,\n",
        "                    callbacks=[callbacks]\n",
        "                   )"
      ],
      "metadata": {
        "colab": {
          "base_uri": "https://localhost:8080/"
        },
        "id": "kOegsJ944QAB",
        "outputId": "2be10c64-4ff9-4422-943e-20f18d7207be"
      },
      "execution_count": 103,
      "outputs": [
        {
          "output_type": "stream",
          "name": "stdout",
          "text": [
            "Epoch 1/30\n",
            "21/21 [==============================] - 123s 5s/step - loss: 1.4502 - accuracy: 0.3744 - val_loss: 1.5814 - val_accuracy: 0.3559 - lr: 0.0010\n",
            "Epoch 2/30\n",
            "21/21 [==============================] - 100s 5s/step - loss: 1.0656 - accuracy: 0.5139 - val_loss: 1.5194 - val_accuracy: 0.4756 - lr: 0.0010\n",
            "Epoch 3/30\n",
            "21/21 [==============================] - 97s 5s/step - loss: 0.9404 - accuracy: 0.5434 - val_loss: 1.4613 - val_accuracy: 0.5297 - lr: 0.0010\n",
            "Epoch 4/30\n",
            "21/21 [==============================] - 105s 5s/step - loss: 0.8385 - accuracy: 0.6058 - val_loss: 1.4021 - val_accuracy: 0.5427 - lr: 0.0010\n",
            "Epoch 5/30\n",
            "21/21 [==============================] - 99s 5s/step - loss: 0.6623 - accuracy: 0.7352 - val_loss: 1.3395 - val_accuracy: 0.5770 - lr: 0.0010\n",
            "Epoch 6/30\n",
            "21/21 [==============================] - 99s 5s/step - loss: 0.5178 - accuracy: 0.8109 - val_loss: 1.2476 - val_accuracy: 0.6386 - lr: 0.0010\n",
            "Epoch 7/30\n",
            "21/21 [==============================] - 99s 5s/step - loss: 0.3815 - accuracy: 0.8731 - val_loss: 1.1330 - val_accuracy: 0.6954 - lr: 0.0010\n",
            "Epoch 8/30\n",
            "21/21 [==============================] - 98s 5s/step - loss: 0.3077 - accuracy: 0.8956 - val_loss: 1.0232 - val_accuracy: 0.7414 - lr: 0.0010\n",
            "Epoch 9/30\n",
            "21/21 [==============================] - 96s 5s/step - loss: 0.2430 - accuracy: 0.9221 - val_loss: 0.8641 - val_accuracy: 0.7783 - lr: 0.0010\n",
            "Epoch 10/30\n",
            "21/21 [==============================] - 99s 5s/step - loss: 0.1971 - accuracy: 0.9401 - val_loss: 0.7036 - val_accuracy: 0.8471 - lr: 0.0010\n",
            "Epoch 11/30\n",
            "21/21 [==============================] - 99s 5s/step - loss: 0.1804 - accuracy: 0.9442 - val_loss: 0.6052 - val_accuracy: 0.8307 - lr: 0.0010\n",
            "Epoch 12/30\n",
            "21/21 [==============================] - 100s 5s/step - loss: 0.1500 - accuracy: 0.9561 - val_loss: 0.4539 - val_accuracy: 0.9025 - lr: 0.0010\n",
            "Epoch 13/30\n",
            "21/21 [==============================] - 107s 5s/step - loss: 0.1195 - accuracy: 0.9661 - val_loss: 0.3621 - val_accuracy: 0.9154 - lr: 0.0010\n",
            "Epoch 14/30\n",
            "21/21 [==============================] - 97s 5s/step - loss: 0.1133 - accuracy: 0.9661 - val_loss: 0.2981 - val_accuracy: 0.9233 - lr: 0.0010\n",
            "Epoch 15/30\n",
            "21/21 [==============================] - 99s 5s/step - loss: 0.1044 - accuracy: 0.9691 - val_loss: 0.2401 - val_accuracy: 0.9350 - lr: 0.0010\n",
            "Epoch 16/30\n",
            "21/21 [==============================] - 97s 5s/step - loss: 0.0857 - accuracy: 0.9744 - val_loss: 0.1644 - val_accuracy: 0.9604 - lr: 0.0010\n",
            "Epoch 17/30\n",
            "21/21 [==============================] - 96s 5s/step - loss: 0.0809 - accuracy: 0.9764 - val_loss: 0.1611 - val_accuracy: 0.9576 - lr: 0.0010\n",
            "Epoch 18/30\n",
            "21/21 [==============================] - 97s 5s/step - loss: 0.0805 - accuracy: 0.9772 - val_loss: 0.1397 - val_accuracy: 0.9634 - lr: 0.0010\n",
            "Epoch 19/30\n",
            "21/21 [==============================] - 96s 5s/step - loss: 0.0741 - accuracy: 0.9787 - val_loss: 0.1034 - val_accuracy: 0.9734 - lr: 0.0010\n",
            "Epoch 20/30\n",
            "21/21 [==============================] - ETA: 0s - loss: 0.0619 - accuracy: 0.9817\n",
            "Akurasi pada data pelatihan dan data validasi mencapai nilai > 95%\n",
            "21/21 [==============================] - 95s 4s/step - loss: 0.0619 - accuracy: 0.9817 - val_loss: 0.0723 - val_accuracy: 0.9806 - lr: 0.0010\n"
          ]
        }
      ]
    },
    {
      "cell_type": "code",
      "source": [
        "#print the overall loss and accuracy\n",
        "lstm_accuracy = model.evaluate(X_val, y_val, verbose=1)[1]"
      ],
      "metadata": {
        "colab": {
          "base_uri": "https://localhost:8080/"
        },
        "id": "v-NLIYZt_J3R",
        "outputId": "91349435-b1c1-4f6f-f7fe-4414c86bcce3"
      },
      "execution_count": 104,
      "outputs": [
        {
          "output_type": "stream",
          "name": "stdout",
          "text": [
            "166/166 [==============================] - 59s 357ms/step - loss: 0.0723 - accuracy: 0.9806\n"
          ]
        }
      ]
    },
    {
      "cell_type": "code",
      "source": [
        "predicted = model.predict(X_test)\n",
        "y_pred = predicted.argmax(axis=-1)\n",
        "\n",
        "print(classification_report(le.transform(df['Emotion']), y_pred))"
      ],
      "metadata": {
        "colab": {
          "base_uri": "https://localhost:8080/"
        },
        "id": "lZmDX0OLBxBF",
        "outputId": "5d6fbf9d-1c42-4565-c1e4-f0e364c263c3"
      },
      "execution_count": 108,
      "outputs": [
        {
          "output_type": "stream",
          "name": "stdout",
          "text": [
            "166/166 [==============================] - 66s 391ms/step\n",
            "              precision    recall  f1-score   support\n",
            "\n",
            "           0       0.98      0.98      0.98       675\n",
            "           1       0.99      0.96      0.97       892\n",
            "           2       0.99      0.99      0.99      1753\n",
            "           3       0.99      0.97      0.98       800\n",
            "           4       0.96      0.99      0.98      1185\n",
            "\n",
            "    accuracy                           0.98      5305\n",
            "   macro avg       0.98      0.98      0.98      5305\n",
            "weighted avg       0.98      0.98      0.98      5305\n",
            "\n"
          ]
        }
      ]
    },
    {
      "cell_type": "code",
      "source": [
        "# Visualize Loss & Accuracy\n",
        "\n",
        "%matplotlib inline\n",
        "import matplotlib.pyplot as plt\n",
        "acc = history.history['accuracy']\n",
        "val_acc = history.history['val_accuracy']\n",
        "loss = history.history['loss']\n",
        "val_loss = history.history['val_loss']\n",
        "\n",
        "epochs = range(len(acc))\n",
        "\n",
        "plt.plot(epochs, acc, 'r', label='Training accuracy')\n",
        "plt.plot(epochs, val_acc, 'b', label='Validation accuracy')\n",
        "plt.title('Training and validation accuracy')\n",
        "plt.legend()\n",
        "plt.figure()\n",
        "\n",
        "plt.plot(epochs, loss, 'r', label='Training Loss')\n",
        "plt.plot(epochs, val_loss, 'b', label='Validation Loss')\n",
        "plt.title('Training and validation loss')\n",
        "plt.legend()\n",
        "\n",
        "plt.show()"
      ],
      "metadata": {
        "colab": {
          "base_uri": "https://localhost:8080/",
          "height": 887
        },
        "id": "7TcpXpUr_biJ",
        "outputId": "07d286a9-fb16-4a77-d605-0c3b47a1c8a4"
      },
      "execution_count": 106,
      "outputs": [
        {
          "output_type": "display_data",
          "data": {
            "text/plain": [
              "<Figure size 640x480 with 1 Axes>"
            ],
            "image/png": "[encoded data removed]"
          },
          "metadata": {}
        },
        {
          "output_type": "display_data",
          "data": {
            "text/plain": [
              "<Figure size 640x480 with 1 Axes>"
            ],
            "image/png": "[encoded data removed]"
          },
          "metadata": {}
        }
      ]
    },
    {
      "cell_type": "markdown",
      "source": [
        "# **Results**"
      ],
      "metadata": {
        "id": "dgTDVkn4zI2k"
      }
    },
    {
      "cell_type": "code",
      "source": [
        "models = pd.DataFrame({\n",
        "    'Model': ['Logistic Regression', 'SVM', 'LSTM'],\n",
        "    'Accuracy': [round(log_reg_accuracy, 2), round(SVM_accuracy, 2), round(lstm_accuracy, 2)]\n",
        "})\n",
        "\n",
        "models.sort_values(by='Accuracy', ascending=False).reset_index(drop=True)"
      ],
      "metadata": {
        "colab": {
          "base_uri": "https://localhost:8080/",
          "height": 143
        },
        "id": "2tcuIm0VB2Vn",
        "outputId": "aa120e38-e00c-441a-edb4-ddfd75322f75"
      },
      "execution_count": 109,
      "outputs": [
        {
          "output_type": "execute_result",
          "data": {
            "text/plain": [
              "                 Model  Accuracy\n",
              "0                 LSTM      0.98\n",
              "1                  SVM      0.97\n",
              "2  Logistic Regression      0.82"
            ],
            "text/html": [
              "\n",
              "  <div id=\"df-b38bb639-9237-4bfe-8808-e2c904208ef4\" class=\"colab-df-container\">\n",
              "    <div>\n",
              "<style scoped>\n",
              "    .dataframe tbody tr th:only-of-type {\n",
              "        vertical-align: middle;\n",
              "    }\n",
              "\n",
              "    .dataframe tbody tr th {\n",
              "        vertical-align: top;\n",
              "    }\n",
              "\n",
              "    .dataframe thead th {\n",
              "        text-align: right;\n",
              "    }\n",
              "</style>\n",
              "<table border=\"1\" class=\"dataframe\">\n",
              "  <thead>\n",
              "    <tr style=\"text-align: right;\">\n",
              "      <th></th>\n",
              "      <th>Model</th>\n",
              "      <th>Accuracy</th>\n",
              "    </tr>\n",
              "  </thead>\n",
              "  <tbody>\n",
              "    <tr>\n",
              "      <th>0</th>\n",
              "      <td>LSTM</td>\n",
              "      <td>0.98</td>\n",
              "    </tr>\n",
              "    <tr>\n",
              "      <th>1</th>\n",
              "      <td>SVM</td>\n",
              "      <td>0.97</td>\n",
              "    </tr>\n",
              "    <tr>\n",
              "      <th>2</th>\n",
              "      <td>Logistic Regression</td>\n",
              "      <td>0.82</td>\n",
              "    </tr>\n",
              "  </tbody>\n",
              "</table>\n",
              "</div>\n",
              "    <div class=\"colab-df-buttons\">\n",
              "\n",
              "  <div class=\"colab-df-container\">\n",
              "    <button class=\"colab-df-convert\" onclick=\"convertToInteractive('df-b38bb639-9237-4bfe-8808-e2c904208ef4')\"\n",
              "            title=\"Convert this dataframe to an interactive table.\"\n",
              "            style=\"display:none;\">\n",
              "\n",
              "  <svg xmlns=\"http://www.w3.org/2000/svg\" height=\"24px\" viewBox=\"0 -960 960 960\">\n",
              "    <path d=\"M120-120v-720h720v720H120Zm60-500h600v-160H180v160Zm220 220h160v-160H400v160Zm0 220h160v-160H400v160ZM180-400h160v-160H180v160Zm440 0h160v-160H620v160ZM180-180h160v-160H180v160Zm440 0h160v-160H620v160Z\"/>\n",
              "  </svg>\n",
              "    </button>\n",
              "\n",
              "  <style>\n",
              "    .colab-df-container {\n",
              "      display:flex;\n",
              "      gap: 12px;\n",
              "    }\n",
              "\n",
              "    .colab-df-convert {\n",
              "      background-color: #E8F0FE;\n",
              "      border: none;\n",
              "      border-radius: 50%;\n",
              "      cursor: pointer;\n",
              "      display: none;\n",
              "      fill: #1967D2;\n",
              "      height: 32px;\n",
              "      padding: 0 0 0 0;\n",
              "      width: 32px;\n",
              "    }\n",
              "\n",
              "    .colab-df-convert:hover {\n",
              "      background-color: #E2EBFA;\n",
              "      box-shadow: 0px 1px 2px rgba(60, 64, 67, 0.3), 0px 1px 3px 1px rgba(60, 64, 67, 0.15);\n",
              "      fill: #174EA6;\n",
              "    }\n",
              "\n",
              "    .colab-df-buttons div {\n",
              "      margin-bottom: 4px;\n",
              "    }\n",
              "\n",
              "    [theme=dark] .colab-df-convert {\n",
              "      background-color: #3B4455;\n",
              "      fill: #D2E3FC;\n",
              "    }\n",
              "\n",
              "    [theme=dark] .colab-df-convert:hover {\n",
              "      background-color: #434B5C;\n",
              "      box-shadow: 0px 1px 3px 1px rgba(0, 0, 0, 0.15);\n",
              "      filter: drop-shadow(0px 1px 2px rgba(0, 0, 0, 0.3));\n",
              "      fill: #FFFFFF;\n",
              "    }\n",
              "  </style>\n",
              "\n",
              "    <script>\n",
              "      const buttonEl =\n",
              "        document.querySelector('#df-b38bb639-9237-4bfe-8808-e2c904208ef4 button.colab-df-convert');\n",
              "      buttonEl.style.display =\n",
              "        google.colab.kernel.accessAllowed ? 'block' : 'none';\n",
              "\n",
              "      async function convertToInteractive(key) {\n",
              "        const element = document.querySelector('#df-b38bb639-9237-4bfe-8808-e2c904208ef4');\n",
              "        const dataTable =\n",
              "          await google.colab.kernel.invokeFunction('convertToInteractive',\n",
              "                                                    [key], {});\n",
              "        if (!dataTable) return;\n",
              "\n",
              "        const docLinkHtml = 'Like what you see? Visit the ' +\n",
              "          '<a target=\"_blank\" href=https://colab.research.google.com/notebooks/data_table.ipynb>data table notebook</a>'\n",
              "          + ' to learn more about interactive tables.';\n",
              "        element.innerHTML = '';\n",
              "        dataTable['output_type'] = 'display_data';\n",
              "        await google.colab.output.renderOutput(dataTable, element);\n",
              "        const docLink = document.createElement('div');\n",
              "        docLink.innerHTML = docLinkHtml;\n",
              "        element.appendChild(docLink);\n",
              "      }\n",
              "    </script>\n",
              "  </div>\n",
              "\n",
              "\n",
              "<div id=\"df-4f870b66-2d68-42a6-982d-cbe923788ec5\">\n",
              "  <button class=\"colab-df-quickchart\" onclick=\"quickchart('df-4f870b66-2d68-42a6-982d-cbe923788ec5')\"\n",
              "            title=\"Suggest charts\"\n",
              "            style=\"display:none;\">\n",
              "\n",
              "<svg xmlns=\"http://www.w3.org/2000/svg\" height=\"24px\"viewBox=\"0 0 24 24\"\n",
              "     width=\"24px\">\n",
              "    <g>\n",
              "        <path d=\"M19 3H5c-1.1 0-2 .9-2 2v14c0 1.1.9 2 2 2h14c1.1 0 2-.9 2-2V5c0-1.1-.9-2-2-2zM9 17H7v-7h2v7zm4 0h-2V7h2v10zm4 0h-2v-4h2v4z\"/>\n",
              "    </g>\n",
              "</svg>\n",
              "  </button>\n",
              "\n",
              "<style>\n",
              "  .colab-df-quickchart {\n",
              "      --bg-color: #E8F0FE;\n",
              "      --fill-color: #1967D2;\n",
              "      --hover-bg-color: #E2EBFA;\n",
              "      --hover-fill-color: #174EA6;\n",
              "      --disabled-fill-color: #AAA;\n",
              "      --disabled-bg-color: #DDD;\n",
              "  }\n",
              "\n",
              "  [theme=dark] .colab-df-quickchart {\n",
              "      --bg-color: #3B4455;\n",
              "      --fill-color: #D2E3FC;\n",
              "      --hover-bg-color: #434B5C;\n",
              "      --hover-fill-color: #FFFFFF;\n",
              "      --disabled-bg-color: #3B4455;\n",
              "      --disabled-fill-color: #666;\n",
              "  }\n",
              "\n",
              "  .colab-df-quickchart {\n",
              "    background-color: var(--bg-color);\n",
              "    border: none;\n",
              "    border-radius: 50%;\n",
              "    cursor: pointer;\n",
              "    display: none;\n",
              "    fill: var(--fill-color);\n",
              "    height: 32px;\n",
              "    padding: 0;\n",
              "    width: 32px;\n",
              "  }\n",
              "\n",
              "  .colab-df-quickchart:hover {\n",
              "    background-color: var(--hover-bg-color);\n",
              "    box-shadow: 0 1px 2px rgba(60, 64, 67, 0.3), 0 1px 3px 1px rgba(60, 64, 67, 0.15);\n",
              "    fill: var(--button-hover-fill-color);\n",
              "  }\n",
              "\n",
              "  .colab-df-quickchart-complete:disabled,\n",
              "  .colab-df-quickchart-complete:disabled:hover {\n",
              "    background-color: var(--disabled-bg-color);\n",
              "    fill: var(--disabled-fill-color);\n",
              "    box-shadow: none;\n",
              "  }\n",
              "\n",
              "  .colab-df-spinner {\n",
              "    border: 2px solid var(--fill-color);\n",
              "    border-color: transparent;\n",
              "    border-bottom-color: var(--fill-color);\n",
              "    animation:\n",
              "      spin 1s steps(1) infinite;\n",
              "  }\n",
              "\n",
              "  @keyframes spin {\n",
              "    0% {\n",
              "      border-color: transparent;\n",
              "      border-bottom-color: var(--fill-color);\n",
              "      border-left-color: var(--fill-color);\n",
              "    }\n",
              "    20% {\n",
              "      border-color: transparent;\n",
              "      border-left-color: var(--fill-color);\n",
              "      border-top-color: var(--fill-color);\n",
              "    }\n",
              "    30% {\n",
              "      border-color: transparent;\n",
              "      border-left-color: var(--fill-color);\n",
              "      border-top-color: var(--fill-color);\n",
              "      border-right-color: var(--fill-color);\n",
              "    }\n",
              "    40% {\n",
              "      border-color: transparent;\n",
              "      border-right-color: var(--fill-color);\n",
              "      border-top-color: var(--fill-color);\n",
              "    }\n",
              "    60% {\n",
              "      border-color: transparent;\n",
              "      border-right-color: var(--fill-color);\n",
              "    }\n",
              "    80% {\n",
              "      border-color: transparent;\n",
              "      border-right-color: var(--fill-color);\n",
              "      border-bottom-color: var(--fill-color);\n",
              "    }\n",
              "    90% {\n",
              "      border-color: transparent;\n",
              "      border-bottom-color: var(--fill-color);\n",
              "    }\n",
              "  }\n",
              "</style>\n",
              "\n",
              "  <script>\n",
              "    async function quickchart(key) {\n",
              "      const quickchartButtonEl =\n",
              "        document.querySelector('#' + key + ' button');\n",
              "      quickchartButtonEl.disabled = true;  // To prevent multiple clicks.\n",
              "      quickchartButtonEl.classList.add('colab-df-spinner');\n",
              "      try {\n",
              "        const charts = await google.colab.kernel.invokeFunction(\n",
              "            'suggestCharts', [key], {});\n",
              "      } catch (error) {\n",
              "        console.error('Error during call to suggestCharts:', error);\n",
              "      }\n",
              "      quickchartButtonEl.classList.remove('colab-df-spinner');\n",
              "      quickchartButtonEl.classList.add('colab-df-quickchart-complete');\n",
              "    }\n",
              "    (() => {\n",
              "      let quickchartButtonEl =\n",
              "        document.querySelector('#df-4f870b66-2d68-42a6-982d-cbe923788ec5 button');\n",
              "      quickchartButtonEl.style.display =\n",
              "        google.colab.kernel.accessAllowed ? 'block' : 'none';\n",
              "    })();\n",
              "  </script>\n",
              "</div>\n",
              "    </div>\n",
              "  </div>\n"
            ],
            "application/vnd.google.colaboratory.intrinsic+json": {
              "type": "dataframe",
              "summary": "{\n  \"name\": \"models\",\n  \"rows\": 3,\n  \"fields\": [\n    {\n      \"column\": \"Model\",\n      \"properties\": {\n        \"dtype\": \"string\",\n        \"num_unique_values\": 3,\n        \"samples\": [\n          \"LSTM\",\n          \"SVM\",\n          \"Logistic Regression\"\n        ],\n        \"semantic_type\": \"\",\n        \"description\": \"\"\n      }\n    },\n    {\n      \"column\": \"Accuracy\",\n      \"properties\": {\n        \"dtype\": \"number\",\n        \"std\": 0.08962886439832503,\n        \"min\": 0.82,\n        \"max\": 0.98,\n        \"num_unique_values\": 3,\n        \"samples\": [\n          0.98,\n          0.97,\n          0.82\n        ],\n        \"semantic_type\": \"\",\n        \"description\": \"\"\n      }\n    }\n  ]\n}"
            }
          },
          "metadata": {},
          "execution_count": 109
        }
      ]
    },
    {
      "cell_type": "code",
      "source": [
        "Accuracy = models.sort_values(by='Accuracy', ascending=False).reset_index(drop=True)\n",
        "\n",
        "fig, ax = plt.subplots()\n",
        "Accuracy.plot(x='Model', y='Accuracy', kind='barh', ax=ax, zorder=3)\n",
        "ax.grid(zorder=0)\n"
      ],
      "metadata": {
        "colab": {
          "base_uri": "https://localhost:8080/",
          "height": 400
        },
        "id": "OJfVoCKAFqnJ",
        "outputId": "69abc0be-98c0-4eff-de85-ccd13e0aad6c"
      },
      "execution_count": 112,
      "outputs": [
        {
          "output_type": "display_data",
          "data": {
            "text/plain": [
              "<Figure size 640x480 with 1 Axes>"
            ],
            "image/png": "[encoded data removed]"
          },
          "metadata": {}
        }
      ]
    }
  ]
}